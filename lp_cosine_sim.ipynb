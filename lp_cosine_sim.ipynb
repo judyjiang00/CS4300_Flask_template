{
 "cells": [
  {
   "cell_type": "code",
   "execution_count": 2,
   "metadata": {},
   "outputs": [],
   "source": [
    "import nltk\n",
    "import io\n",
    "from nltk.stem.porter import *\n",
    "import matplotlib.pyplot as plt\n",
    "import numpy as np\n",
    "from collections import Counter, defaultdict\n",
    "import re\n",
    "from scipy.spatial.distance import cdist\n",
    "import pickle\n",
    "\n",
    "regions = ['africa',\n",
    "           'antarctica',\n",
    "           'australasia',\n",
    "           'caribbean',\n",
    "           'central_america',\n",
    "           'central_asia',\n",
    "           'europe',\n",
    "           'indian_subcontinent',\n",
    "           'middle_east',\n",
    "           'north_america',\n",
    "           'north_east asia',\n",
    "           'pacific',\n",
    "           'south_america',\n",
    "           'south_east_asia',\n",
    "           'north_east_asia']"
   ]
  },
  {
   "cell_type": "code",
   "execution_count": 3,
   "metadata": {},
   "outputs": [
    {
     "name": "stdout",
     "output_type": "stream",
     "text": [
      "/Users/NoahKaplan/miniconda3/bin/python\n"
     ]
    }
   ],
   "source": [
    "import sys\n",
    "print(sys.executable)"
   ]
  },
  {
   "cell_type": "code",
   "execution_count": 4,
   "metadata": {},
   "outputs": [],
   "source": [
    "data = []\n",
    "with io.open('data/FlatCorpus.txt', encoding='utf-8-sig') as f:\n",
    "    for line in f:\n",
    "        title, text = line.split(':  ')\n",
    "        region = ''\n",
    "        for r in regions:\n",
    "            if title.startswith(r):\n",
    "                region = ' '.join(map(lambda x: x.capitalize(), r.split('_')))\n",
    "                break\n",
    "        split_title = title[len(region) + 1:].split('_')\n",
    "        entry_type = split_title[-1].split('.')[0]\n",
    "        city = ' '.join(map(lambda x: x.capitalize(), split_title[:-1]))\n",
    "        row = [region, city, entry_type, text]\n",
    "        data.append(row)"
   ]
  },
  {
   "cell_type": "code",
   "execution_count": 5,
   "metadata": {},
   "outputs": [
    {
     "name": "stdout",
     "output_type": "stream",
     "text": [
      "['North America', u'Atlantic City', u'activities', u\"Activities  Atlantic City is not the place to visit if you're into the outdoors. The most burning of calories you'll achive will be getting out of bed and slouching in front of a slot machine. The city's rules and regulations conspire to keep it this way. While the Boardwalk is a good spot, in theory, for cycling, bikes are only allowed between the hours of 6-10 am.  If you want some exercise, you're better off leaving Atlantic City and heading for the peaceful Pine Barrens, where there's no shortage of hiking in the huge pine forest. In Egg Harbor, you can rent equipment to canoe and kayak through the Pines. Wildwood's coast has some decent beaches from which people parasail. Whalewatching trips run from North Wildwood and Cape May throughout the summer.  \\n\"]\n"
     ]
    }
   ],
   "source": [
    "print(data[1165])"
   ]
  },
  {
   "cell_type": "code",
   "execution_count": 6,
   "metadata": {},
   "outputs": [
    {
     "name": "stdout",
     "output_type": "stream",
     "text": [
      "1801\n"
     ]
    }
   ],
   "source": [
    "print(len(data))"
   ]
  },
  {
   "cell_type": "code",
   "execution_count": 7,
   "metadata": {},
   "outputs": [],
   "source": [
    "countries = [row[0] for row in data]\n",
    "cities = [row[1] for row in data]\n",
    "types = [row[2] for row in data]"
   ]
  },
  {
   "cell_type": "code",
   "execution_count": 8,
   "metadata": {},
   "outputs": [
    {
     "name": "stdout",
     "output_type": "stream",
     "text": [
      "[nltk_data] Downloading package stopwords to\n",
      "[nltk_data]     /Users/NoahKaplan/nltk_data...\n",
      "[nltk_data]   Package stopwords is already up-to-date!\n"
     ]
    }
   ],
   "source": [
    "nltk.download('stopwords')\n",
    "stopwords = set(nltk.corpus.stopwords.words('english'))"
   ]
  },
  {
   "cell_type": "code",
   "execution_count": 9,
   "metadata": {},
   "outputs": [],
   "source": [
    "def tokenize(sent):\n",
    "    return re.findall('[a-zA-Z]+', sent)"
   ]
  },
  {
   "cell_type": "code",
   "execution_count": 10,
   "metadata": {},
   "outputs": [],
   "source": [
    "descriptions = [[w.lower() for w in tokenize(row[3])] for row in data]"
   ]
  },
  {
   "cell_type": "code",
   "execution_count": 11,
   "metadata": {},
   "outputs": [
    {
     "name": "stdout",
     "output_type": "stream",
     "text": [
      "[u'attractions', u'officially', u'the', u'capital', u'the', u'government', u'long', u'ago', u'moved', u'itself', u'and', u'most', u'of', u'its', u'business', u'km', u'mi', u'west', u'to', u'cotonou', u'nevertheless', u'this', u'town', u'of', u'some', u'people', u'remains', u'a', u'beautiful', u'and', u'historical', u'place', u'its', u'proximity', u'to', u'the', u'nigerian', u'border', u'gives', u'the', u'appearance', u'that', u'more', u'is', u'going', u'on', u'than', u'actually', u'is', u'though', u'there', u'are', u'still', u'some', u'hot', u'spots', u'such', u'as', u'the', u'grand', u'marche', u'd', u'adjara', u'where', u'you', u'can', u'buy', u'drums', u'cloth', u'baskets', u'and', u'the', u'best', u'pottery', u'in', u'benin', u'the', u'musee', u'ethnographique', u'de', u'porto', u'novo', u'has', u'a', u'great', u'collection', u'of', u'yoruba', u'artefacts', u'you', u'can', u'also', u'visit', u'the', u'ornate', u'brazilian', u'style', u'church', u'now', u'a', u'mosque']\n"
     ]
    }
   ],
   "source": [
    "print(descriptions[1])"
   ]
  },
  {
   "cell_type": "code",
   "execution_count": 12,
   "metadata": {},
   "outputs": [],
   "source": [
    "stemmer = PorterStemmer()"
   ]
  },
  {
   "cell_type": "code",
   "execution_count": 13,
   "metadata": {},
   "outputs": [],
   "source": [
    "stems = [[stemmer.stem(w.lower()) for w in sent] for sent in descriptions]"
   ]
  },
  {
   "cell_type": "code",
   "execution_count": 14,
   "metadata": {},
   "outputs": [
    {
     "name": "stdout",
     "output_type": "stream",
     "text": [
      "[u'attract', u'offici', u'the', u'capit', u'the', u'govern', u'long', u'ago', u'move', u'itself', u'and', u'most', u'of', u'it', u'busi', u'km', u'mi', u'west', u'to', u'coton', u'nevertheless', u'thi', u'town', u'of', u'some', u'peopl', u'remain', u'a', u'beauti', u'and', u'histor', u'place', u'it', u'proxim', u'to', u'the', u'nigerian', u'border', u'give', u'the', u'appear', u'that', u'more', u'is', u'go', u'on', u'than', u'actual', u'is', u'though', u'there', u'are', u'still', u'some', u'hot', u'spot', u'such', u'as', u'the', u'grand', u'march', u'd', u'adjara', u'where', u'you', u'can', u'buy', u'drum', u'cloth', u'basket', u'and', u'the', u'best', u'potteri', u'in', u'benin', u'the', u'muse', u'ethnographiqu', u'de', u'porto', u'novo', u'ha', u'a', u'great', u'collect', u'of', u'yoruba', u'artefact', u'you', u'can', u'also', u'visit', u'the', u'ornat', u'brazilian', u'style', u'church', u'now', u'a', u'mosqu']\n"
     ]
    }
   ],
   "source": [
    "print(stems[1])"
   ]
  },
  {
   "cell_type": "code",
   "execution_count": 15,
   "metadata": {},
   "outputs": [],
   "source": [
    "inv_idx = defaultdict(set)\n",
    "for i, row in enumerate(stems):\n",
    "    for w in row:\n",
    "        inv_idx[w].add(i)"
   ]
  },
  {
   "cell_type": "code",
   "execution_count": 16,
   "metadata": {},
   "outputs": [],
   "source": [
    "min_df = 10\n",
    "max_df = 0.8\n",
    "nd = len(data)\n",
    "vocab = list(filter(lambda x: min_df <= len(inv_idx[x]) <= nd * max_df and x not in stopwords, inv_idx.keys()))\n",
    "vocab_idx = {w: i for i, w in enumerate(vocab)}"
   ]
  },
  {
   "cell_type": "code",
   "execution_count": 17,
   "metadata": {},
   "outputs": [
    {
     "name": "stdout",
     "output_type": "stream",
     "text": [
      "3068\n"
     ]
    }
   ],
   "source": [
    "print(len(vocab_idx))"
   ]
  },
  {
   "cell_type": "code",
   "execution_count": 18,
   "metadata": {},
   "outputs": [],
   "source": [
    "idf = {}\n",
    "filt_inv_idx = {}\n",
    "for w in vocab:\n",
    "    idf[w] = np.log((nd) / (1 + len(inv_idx[w])) + 1)\n",
    "    filt_inv_idx[w] = inv_idx[w]"
   ]
  },
  {
   "cell_type": "code",
   "execution_count": 19,
   "metadata": {},
   "outputs": [],
   "source": [
    "doc_mat = np.zeros((nd, len(vocab)))\n",
    "\n",
    "for i, row in enumerate(stems):\n",
    "    counter = Counter(row)\n",
    "    for w, count in counter.items():\n",
    "        if w in idf:\n",
    "            doc_mat[i, vocab_idx[w]] = idf[w] * count\n",
    "norm = np.linalg.norm(doc_mat, axis=1)[:, np.newaxis] + 1e-8\n",
    "doc_mat = doc_mat / norm"
   ]
  },
  {
   "cell_type": "code",
   "execution_count": 20,
   "metadata": {},
   "outputs": [
    {
     "name": "stdout",
     "output_type": "stream",
     "text": [
      "[u'tropic', 'beach']\n"
     ]
    }
   ],
   "source": [
    "raw_query = tokenize('tropical beach')\n",
    "query = [stemmer.stem(w) for w in raw_query]\n",
    "print(query)"
   ]
  },
  {
   "cell_type": "code",
   "execution_count": 43,
   "metadata": {},
   "outputs": [
    {
     "name": "stdout",
     "output_type": "stream",
     "text": [
      "Number of unique regions\n",
      "392\n"
     ]
    }
   ],
   "source": [
    "accum = np.zeros(len(data))\n",
    "for q in query:\n",
    "    if q in vocab_idx:\n",
    "        for doc in inv_idx[q]:\n",
    "            accum[doc] += doc_mat[doc, vocab_idx[q]]\n",
    "ranking = accum.argsort()[::-1]\n",
    "regions = []\n",
    "\n",
    "for r in ranking:\n",
    "    if len(regions) >= 20:\n",
    "        break\n",
    "    regions.append(data[r][1])\n",
    "    \n",
    "s = set()\n",
    "for r in ranking:\n",
    "    s.add(data[r][1])\n",
    "print(\"Number of unique regions\")\n",
    "print(len(s))"
   ]
  },
  {
   "cell_type": "code",
   "execution_count": 22,
   "metadata": {},
   "outputs": [
    {
     "name": "stdout",
     "output_type": "stream",
     "text": [
      "[u'South Korea', u'Aruba', u'Barbados', u'Molokai', u'Santa Barbara', u'Antigua And Barbuda', u'Alicante', u'Los Angeles', u'Grenada', u'Sint Eustatius', u'Miami', u'Saint Martin', u'Melbourne', u'Hawaii', u'Cook Islands', u'Sint Maarten', u'Rio De Janeiro', u'Trinidad And Tobago', u'Honolulu', u'Guadeloupe']\n"
     ]
    }
   ],
   "source": [
    "print(regions)"
   ]
  },
  {
   "cell_type": "code",
   "execution_count": 23,
   "metadata": {},
   "outputs": [
    {
     "name": "stdout",
     "output_type": "stream",
     "text": [
      "[1489  318  328 ...  970  971  900]\n"
     ]
    }
   ],
   "source": [
    "print(ranking)"
   ]
  },
  {
   "cell_type": "code",
   "execution_count": 44,
   "metadata": {},
   "outputs": [],
   "source": [
    "# Dump raw LP text data\n",
    "#with open('data/LP_raw.pickle', 'wb') as f:\n",
    "    #pickle.dump(data, f, protocol=2)\n",
    "\n",
    "# Dump pickled inverted index\n",
    "#with open('data/inv_idx.pickle', 'wb') as f:\n",
    "    #pickle.dump(inv_idx, f, protocol=2)\n",
    "\n",
    "# Dump pickled TF-IDF matrix\n",
    "#with open('data/tfidf_mat.pickle', 'wb') as f:\n",
    "    #pickle.dump(doc_mat, f, protocol=2)\n",
    "    \n",
    "# Dump pickled vocab index matrix\n",
    "#with open('data/vocab_idx.pickle', 'wb') as f:\n",
    "    #pickle.dump(vocab_idx, f, protocol=2)"
   ]
  },
  {
   "cell_type": "code",
   "execution_count": 25,
   "metadata": {},
   "outputs": [
    {
     "name": "stdout",
     "output_type": "stream",
     "text": [
      "[['The Hollywood Museum', 5.0, '1660 N Highland Ave, Hollywood, CA 90028, USA'], ['Madame Tussauds Hollywood', 5.0, '6933 Hollywood Blvd, Hollywood, CA 90028, USA'], ['OUE Skyspace LA', 4.0, '633 W 5th St #840, Los Angeles, CA 90071, USA'], ['Hollywood Wax Museum', 5.0, '6767 Hollywood Blvd, Los Angeles, CA 90028, USA'], [\"Ripley's Believe It or Not!\", 5.0, '6780 Hollywood Blvd, Hollywood, CA 90028, USA'], ['L.A. Hood Life Tours', 5.0, '6326 Hollywood Blvd, Los Angeles, CA 90028, USA'], ['Little Tokyo', 5.0, '319 E 2nd St #202, Los Angeles, CA 90013, USA'], ['Arlene Dahl Star', 4.0, '1668, 1658 Vine St, Los Angeles, CA 90028, USA'], ['Robert F. Kennedy Inspiration Park', 5.0, '3384 Wilshire Blvd, Los Angeles, CA 90010, USA'], ['Edm Hall', 4.0, '123 Astronaut E S Onizuka St, Los Angeles, CA 90012, USA'], ['Mural \"La Brea\"', 4.0, '181 South La Brea Ave, Los Angeles, CA 90036, USA'], ['Korean Pavilion', 5.0, '1000 Normandie Ave, Los Angeles, CA 90006, USA'], ['Adam 12 Police Station', 5.0, '2710 W Temple St, Los Angeles, CA 90026, USA'], ['Los Angeles USA Tours', 4.0, '6672 Hollywood Blvd, Los Angeles, CA 90028, USA'], ['Dolet Hills Oxbow Mine', 5.0, '4, 5350 W Olympic Blvd, Los Angeles, CA 90019, USA'], ['Griffith Observatory', 5.0, '2800 E Observatory Rd, Los Angeles, CA 90027, USA'], ['Public Art \"A Bear in LA\"', 5.0, 'Imperial St, Los Angeles, CA 90021, USA'], ['Public Art \"Hammering Man\"', 5.0, '110 E 9th St, Los Angeles, CA 90079, USA'], ['Ghostbusters Interior Firehouse', 5.0, '225 E 5th St, Los Angeles, CA 90013, USA'], ['Hollywood Sign', 4.0, 'Los Angeles, CA 90068, USA'], ['Los Angeles State Historic Park', 4.0, '1245 N Spring St, Los Angeles, CA 90012, USA'], ['Barnsdall Art Park', 4.0, '4800 Hollywood Blvd, Los Angeles, CA 90027, USA'], ['Grand Park', 5.0, '200 N Grand Ave, Los Angeles, CA 90012, USA'], ['Exposition Park Rose Garden', 5.0, '701 State Dr, Los Angeles, CA 90037, USA'], ['Shakespeare Bridge Garden', 5.0, '1900 Monon St, Los Angeles, CA 90027, USA'], ['Echo Park', 5.0, '1632 Bellevue Ave, Los Angeles, CA 90026, USA'], ['Lincoln Park', 5.0, '3501 Valley Blvd, Los Angeles, CA 90031, USA'], ['Hollenbeck Park', 4.0, '415 S St Louis St, Los Angeles, CA 90033, USA'], ['Hermon Park (Arroyo Seco Park)', 5.0, '5566 Via Marisol, Los Angeles, CA 90042, USA'], ['Vista Hermosa Natural Park', 5.0, '100 N Toluca St, Los Angeles, CA 90026, USA'], ['Rio de Los Angeles State Park', 1.0, '1900 N San Fernando Rd, Los Angeles, CA 90065, USA'], ['Grand Hope Park', 4.0, '919 S Grand Ave, Los Angeles, CA 90015, USA'], ['McCarthy Quad', 5.0, '3551 Trousdale Pkwy, Los Angeles, CA 90089, USA'], ['Alpine Recreation Center', 5.0, '817 Yale St, Los Angeles, CA 90012, USA'], ['Kawada Hotel', 5.0, '200 S Hill St, Los Angeles, CA 90012, USA'], ['Miyako Hotel Los Angeles', 5.0, '328 E 1st St, Los Angeles, CA 90012, USA'], ['Metro Plaza Hotel', 3.0, '711 N Main St, Los Angeles, CA 90012, USA'], ['Hilton Checkers Los Angeles', 2.0, '535 S Grand Ave, Los Angeles, CA 90071, USA'], ['The Westin Bonaventure Hotel & Suites, Los Angeles', 5.0, '404 S Figueroa St, Los Angeles, CA 90071, USA'], ['Stay on Main Hotel', 5.0, '640 S Main St, Los Angeles, CA 90014, USA'], ['The L.A. Grand Hotel Downtown', 2.0, '333 S Figueroa St, Los Angeles, CA 90071, USA'], ['The Los Angeles Athletic Club', 5.0, '431 W 7th St, Los Angeles, CA 90014, USA'], ['The Standard, Downtown LA', 5.0, '550 S Flower St, Los Angeles, CA 90071, USA'], ['Best Western Plus Dragon Gate Inn', 5.0, '818 N Hill St, Los Angeles, CA 90012, USA'], ['Sheraton Grand Los Angeles', 5.0, '711 S Hope St, Los Angeles, CA 90017, USA'], ['The Milner Hotel Downtown Los Angeles', 3.0, '813 S Flower St, Los Angeles, CA 90017, USA'], ['The Royal Pagoda Motel', 5.0, '995 N Broadway, Los Angeles, CA 90012, USA'], ['Knights Inn Los Angeles Central/Convention Center Area', 5.0, '1255 W Temple St, Los Angeles, CA 90026, USA'], ['Americas Best Value Inn - Los Angeles W 7th Street', 3.0, '1123 W 7th St, Los Angeles, CA 90017, USA'], ['City Center Hotel', 2.0, '1135 W 7th St, Los Angeles, CA 90017, USA'], ['Hotel Figueroa', 5.0, '939 S Figueroa St, Los Angeles, CA 90015, USA']]\n"
     ]
    }
   ],
   "source": [
    "google_place_pickle = open(\"data/google_place.pickle\",\"rb\")\n",
    "google_places = pickle.load(google_place_pickle)\n",
    "print(google_places[\"los angeles\"])"
   ]
  },
  {
   "cell_type": "code",
   "execution_count": 26,
   "metadata": {},
   "outputs": [],
   "source": [
    "def getTopPlacesInRegion(region):\n",
    "    topPlaces = []\n",
    "    \n",
    "    sortedPlaces = sorted(google_places[region], key = lambda x: x[1], reverse = True)\n",
    "    for place in sortedPlaces:\n",
    "        topPlaces.append((place[0], place[2]))\n",
    "    \n",
    "    return topPlaces"
   ]
  },
  {
   "cell_type": "code",
   "execution_count": 27,
   "metadata": {},
   "outputs": [
    {
     "data": {
      "text/plain": [
       "[('Cincinnati Food Tours', '1801 Race St, Cincinnati, OH 45202, USA'),\n",
       " ('Gibbon Islands', 'Dury Ave, Cincinnati, OH 45220, USA'),\n",
       " ('Children\\xe2\\x80\\x99s Zoo', 'Forest Ave, Cincinnati, OH 45220, USA'),\n",
       " ('Statue of James A. Garfield', '801-811 Vine St, Cincinnati, OH 45202, USA'),\n",
       " ('Cheetah Encounter', 'Dury Ave, Cincinnati, OH 45220, USA'),\n",
       " ('World Peace Bell Center', '425 York St, Newport, KY 41071, USA'),\n",
       " ('American Legacy Tours', '1332 Vine St, Cincinnati, OH 45202, USA'),\n",
       " ('Newport Aquarium', '1 Dave Cowens Dr, Newport, KY 41071, USA'),\n",
       " ('Fox Preserve', '5801 McCray Ct, Cincinnati, OH 45224, USA'),\n",
       " ('Cincinnati USA Regional Tourism Network',\n",
       "  '50 E Rivercenter Blvd #1100, Covington, KY 41011, USA'),\n",
       " ('Roadtrippers', '131 E McMicken Ave, Cincinnati, OH 45202, USA'),\n",
       " ('New Riff Distilling', '24 Distillery Way, Newport, KY 41073, USA'),\n",
       " ('Findlay Market', '1801 Race St, Cincinnati, OH 45202, USA'),\n",
       " ('Krohn Conservatory', '1501 Eden Park Dr, Cincinnati, OH 45202, USA'),\n",
       " ('Otto Armleder Dog Park', '5057 Wooster Pike, Cincinnati, OH 45226, USA'),\n",
       " ('Washington Park', '1230 Elm St, Cincinnati, OH 45202, USA'),\n",
       " ('Cincinnati City Park Water',\n",
       "  '705 E Pete Rose Way, Cincinnati, OH 45202, USA'),\n",
       " ('Alms Park', '710 Tusculum Ave, Cincinnati, OH 45226, USA'),\n",
       " ('Fountain Square South Garage', '416 Vine St, Cincinnati, OH 45202, USA'),\n",
       " ('Smale Riverfront Park', '100 Ted Berry Way, Cincinnati, OH 45202, USA'),\n",
       " (\"Yeatman's Cove\", '705 E Pete Rose Way, Cincinnati, OH 45202, USA'),\n",
       " ('Burnet Woods', '3251 Brookline Ave, Cincinnati, OH 45220, USA'),\n",
       " ('The Cincinnatian Hotel', '601 Vine St, Cincinnati, OH 45202, USA'),\n",
       " ('The Westin Cincinnati', '21 E 5th St, Cincinnati, OH 45202, USA'),\n",
       " ('Residence Inn by Marriott Cincinnati Downtown/The Phelps',\n",
       "  '506 E 4th St, Cincinnati, OH 45202, USA'),\n",
       " ('Cincinnati Marriott at RiverCenter',\n",
       "  '10 W Rivercenter Blvd, Covington, KY 41011, USA'),\n",
       " ('Radisson Hotel Cincinnati Riverfront',\n",
       "  '668 W 5th St, Covington, KY 41011, USA'),\n",
       " ('Hampton Inn & Suites Cincinnati/Uptown',\n",
       "  '3024 Vine St, Cincinnati, OH 45219, USA'),\n",
       " ('Holiday Inn Express & Suites Cincinnati SE Newport',\n",
       "  '110 Landmark Dr, Bellevue, KY 41073, USA'),\n",
       " ('Renaissance Cincinnati Downtown Hotel',\n",
       "  '36 E 4th St, Cincinnati, OH 45202, USA'),\n",
       " ('Xavier University', '3800 Victory Pkwy, Cincinnati, OH 45207, USA'),\n",
       " ('Monkey Island', 'Vine St, Cincinnati, OH 45220, USA'),\n",
       " ('Mushroom House', '3518 Tarpis Ave, Cincinnati, OH 45208, USA'),\n",
       " ('Flottman Company', '720 Centre View Blvd, Crestview Hills, KY 41017, USA'),\n",
       " ('Newport on the Levee', '1 Levee Way, Newport, KY 41071, USA'),\n",
       " ('Cincinnati Zoo & Botanical Garden',\n",
       "  '3400 Vine St, Cincinnati, OH 45220, USA'),\n",
       " ('Eden Park', '950 Eden Park Dr, Cincinnati, OH 45202, USA'),\n",
       " ('Devou Park', '1201 Park Dr, Covington, KY 41011, USA'),\n",
       " ('Friendship Park', '1135 Riverside Dr, Cincinnati, OH 45202, USA'),\n",
       " ('Westwood Town Center Historic District', 'Cincinnati, OH 45211, USA'),\n",
       " ('Hilton Cincinnati Netherland Plaza',\n",
       "  '35 W 5th St, Cincinnati, OH 45202, USA'),\n",
       " ('Hyatt Regency Cincinnati', '151 W 5th St, Cincinnati, OH 45202, USA'),\n",
       " ('Kingsgate Marriott Conference Center at the University of Cincinnati',\n",
       "  'Marriott Kingsgate Conference Center, 151 Goodman Dr, Cincinnati, OH 45219, USA'),\n",
       " ('Rapid Run Park', '4450 Rapid Run Rd, Cincinnati, OH 45205, USA'),\n",
       " ('Courtyard by Marriott Cincinnati Covington',\n",
       "  '500 W 3rd St, Covington, KY 41011, USA'),\n",
       " ('The Garage OTR - Home of Segway of Cincinnati',\n",
       "  '1150 Vine St, Cincinnati, OH 45202, USA'),\n",
       " ('Millennium Hotel Cincinnati', '150 W 5th St, Cincinnati, OH 45202, USA'),\n",
       " ('Embassy Suites by Hilton Cincinnati RiverCenter',\n",
       "  '10 E Rivercenter Blvd, Covington, KY 41011, USA'),\n",
       " ('Northern Kentucky University', 'Nunn Dr, Highland Heights, KY 41099, USA'),\n",
       " ('Cincinnati Christian University',\n",
       "  '2700 Glenway Ave, Cincinnati, OH 45204, USA')]"
      ]
     },
     "execution_count": 27,
     "metadata": {},
     "output_type": "execute_result"
    }
   ],
   "source": [
    "getTopPlacesInRegion(\"cincinnati\")"
   ]
  },
  {
   "cell_type": "code",
   "execution_count": 28,
   "metadata": {},
   "outputs": [],
   "source": [
    "import requests\n",
    "import json\n",
    "from math import sin, cos, sqrt, atan2, radians"
   ]
  },
  {
   "cell_type": "code",
   "execution_count": 29,
   "metadata": {},
   "outputs": [],
   "source": [
    "def getUsersLatLong():\n",
    "    send_url = 'http://freegeoip.net/json'\n",
    "    r = requests.get(send_url)\n",
    "    j = json.loads(r.text)\n",
    "    lat = j['latitude']\n",
    "    lon = j['longitude']\n",
    "    return lat, lon"
   ]
  },
  {
   "cell_type": "code",
   "execution_count": 31,
   "metadata": {},
   "outputs": [],
   "source": [
    "with open('data/destination_geocode.json') as f:\n",
    "\tgeocode = json.load(f)"
   ]
  },
  {
   "cell_type": "code",
   "execution_count": 34,
   "metadata": {},
   "outputs": [],
   "source": [
    "def distBetweenLatLongKM(lat1, lon1, lat2, lon2):\n",
    "    lat1 = radians(lat1)\n",
    "    lon1 = radians(lon1)\n",
    "    lat2 = radians(lat2)\n",
    "    lon2 = radians(lon2)\n",
    "\n",
    "    R = 6373.0\n",
    "\n",
    "    dlon = lon2 - lon1\n",
    "    dlat = lat2 - lat1\n",
    "\n",
    "    a = sin(dlat / 2)**2 + cos(lat1) * cos(lat2) * sin(dlon / 2)**2\n",
    "    c = 2 * atan2(sqrt(a), sqrt(1 - a))\n",
    "\n",
    "    distance = R * c\n",
    "    \n",
    "    return distance"
   ]
  },
  {
   "cell_type": "code",
   "execution_count": 35,
   "metadata": {},
   "outputs": [
    {
     "name": "stdout",
     "output_type": "stream",
     "text": [
      "278.545589351\n"
     ]
    }
   ],
   "source": [
    "print(distBetweenLatLongKM(52.2296756, 21.0122287, 52.406374, 16.9251681))"
   ]
  },
  {
   "cell_type": "code",
   "execution_count": 36,
   "metadata": {},
   "outputs": [],
   "source": [
    "def filterRegionsWithinDistance(maxDistanceKM, regions):\n",
    "    userLat, userLong = getUsersLatLong()\n",
    "    filteredRegions = []\n",
    "    \n",
    "    for region in regions:\n",
    "        lat = geocode[region.lower()]['results'][0]['geometry']['location']['lat']\n",
    "        lon = geocode[region.lower()]['results'][0]['geometry']['location']['lng']\n",
    "        if distBetweenLatLongKM(userLat, userLong, lat, lon) <= maxDistanceKM:\n",
    "            filteredRegions.append(region)\n",
    "        \n",
    "    return filteredRegions"
   ]
  },
  {
   "cell_type": "code",
   "execution_count": 37,
   "metadata": {},
   "outputs": [
    {
     "name": "stdout",
     "output_type": "stream",
     "text": [
      "[u'Miami', u'Saint Martin', u'Sint Maarten']\n"
     ]
    }
   ],
   "source": [
    "print(filterRegionsWithinDistance(3000, regions))"
   ]
  },
  {
   "cell_type": "code",
   "execution_count": null,
   "metadata": {},
   "outputs": [],
   "source": []
  },
  {
   "cell_type": "code",
   "execution_count": null,
   "metadata": {},
   "outputs": [],
   "source": []
  },
  {
   "cell_type": "code",
   "execution_count": null,
   "metadata": {},
   "outputs": [],
   "source": []
  }
 ],
 "metadata": {
  "kernelspec": {
   "display_name": "Python 2",
   "language": "python",
   "name": "python2"
  },
  "language_info": {
   "codemirror_mode": {
    "name": "ipython",
    "version": 2
   },
   "file_extension": ".py",
   "mimetype": "text/x-python",
   "name": "python",
   "nbconvert_exporter": "python",
   "pygments_lexer": "ipython2",
   "version": "2.7.12"
  }
 },
 "nbformat": 4,
 "nbformat_minor": 2
}
