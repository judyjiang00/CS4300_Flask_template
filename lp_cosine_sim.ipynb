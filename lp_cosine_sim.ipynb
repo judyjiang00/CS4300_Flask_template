{
 "cells": [
  {
   "cell_type": "code",
   "execution_count": 20,
   "metadata": {},
   "outputs": [],
   "source": [
    "import nltk\n",
    "import io\n",
    "from nltk.stem.porter import *\n",
    "import matplotlib.pyplot as plt\n",
    "import numpy as np\n",
    "from collections import Counter, defaultdict\n",
    "import re\n",
    "from scipy.spatial.distance import cdist\n",
    "import pickle\n",
    "\n",
    "regions = ['africa',\n",
    "           'antarctica',\n",
    "           'australasia',\n",
    "           'caribbean',\n",
    "           'central_america',\n",
    "           'central_asia',\n",
    "           'europe',\n",
    "           'indian_subcontinent',\n",
    "           'middle_east',\n",
    "           'north_america',\n",
    "           'north_east asia',\n",
    "           'pacific',\n",
    "           'south_america',\n",
    "           'south_east_asia',\n",
    "           'north_east_asia']"
   ]
  },
  {
   "cell_type": "code",
   "execution_count": 21,
   "metadata": {},
   "outputs": [
    {
     "name": "stdout",
     "output_type": "stream",
     "text": [
      "/Users/NoahKaplan/miniconda3/bin/python\n"
     ]
    }
   ],
   "source": [
    "import sys\n",
    "print(sys.executable)"
   ]
  },
  {
   "cell_type": "code",
   "execution_count": 22,
   "metadata": {},
   "outputs": [],
   "source": [
    "data = []\n",
    "with io.open('data/FlatCorpus.txt', encoding='utf-8-sig') as f:\n",
    "    for line in f:\n",
    "        title, text = line.split(':  ')\n",
    "        region = ''\n",
    "        for r in regions:\n",
    "            if title.startswith(r):\n",
    "                region = ' '.join(map(lambda x: x.capitalize(), r.split('_')))\n",
    "                break\n",
    "        split_title = title[len(region) + 1:].split('_')\n",
    "        entry_type = split_title[-1].split('.')[0]\n",
    "        city = ' '.join(map(lambda x: x.capitalize(), split_title[:-1]))\n",
    "        row = [region, city, entry_type, text]\n",
    "        data.append(row)"
   ]
  },
  {
   "cell_type": "code",
   "execution_count": 23,
   "metadata": {},
   "outputs": [
    {
     "name": "stdout",
     "output_type": "stream",
     "text": [
      "['North America', u'Atlantic City', u'activities', u\"Activities  Atlantic City is not the place to visit if you're into the outdoors. The most burning of calories you'll achive will be getting out of bed and slouching in front of a slot machine. The city's rules and regulations conspire to keep it this way. While the Boardwalk is a good spot, in theory, for cycling, bikes are only allowed between the hours of 6-10 am.  If you want some exercise, you're better off leaving Atlantic City and heading for the peaceful Pine Barrens, where there's no shortage of hiking in the huge pine forest. In Egg Harbor, you can rent equipment to canoe and kayak through the Pines. Wildwood's coast has some decent beaches from which people parasail. Whalewatching trips run from North Wildwood and Cape May throughout the summer.  \\n\"]\n"
     ]
    }
   ],
   "source": [
    "print(data[1165])"
   ]
  },
  {
   "cell_type": "code",
   "execution_count": 24,
   "metadata": {},
   "outputs": [
    {
     "name": "stdout",
     "output_type": "stream",
     "text": [
      "1801\n"
     ]
    }
   ],
   "source": [
    "print(len(data))"
   ]
  },
  {
   "cell_type": "code",
   "execution_count": 25,
   "metadata": {},
   "outputs": [],
   "source": [
    "countries = [row[0] for row in data]\n",
    "cities = [row[1] for row in data]\n",
    "types = [row[2] for row in data]"
   ]
  },
  {
   "cell_type": "code",
   "execution_count": 26,
   "metadata": {},
   "outputs": [
    {
     "name": "stdout",
     "output_type": "stream",
     "text": [
      "[nltk_data] Downloading package stopwords to\n",
      "[nltk_data]     /Users/NoahKaplan/nltk_data...\n",
      "[nltk_data]   Package stopwords is already up-to-date!\n"
     ]
    }
   ],
   "source": [
    "nltk.download('stopwords')\n",
    "stopwords = set(nltk.corpus.stopwords.words('english'))"
   ]
  },
  {
   "cell_type": "code",
   "execution_count": 27,
   "metadata": {},
   "outputs": [],
   "source": [
    "def tokenize(sent):\n",
    "    return re.findall('[a-zA-Z]+', sent)"
   ]
  },
  {
   "cell_type": "code",
   "execution_count": 28,
   "metadata": {},
   "outputs": [],
   "source": [
    "descriptions = [[w.lower() for w in tokenize(row[3])] for row in data]"
   ]
  },
  {
   "cell_type": "code",
   "execution_count": 29,
   "metadata": {},
   "outputs": [
    {
     "name": "stdout",
     "output_type": "stream",
     "text": [
      "[u'attractions', u'officially', u'the', u'capital', u'the', u'government', u'long', u'ago', u'moved', u'itself', u'and', u'most', u'of', u'its', u'business', u'km', u'mi', u'west', u'to', u'cotonou', u'nevertheless', u'this', u'town', u'of', u'some', u'people', u'remains', u'a', u'beautiful', u'and', u'historical', u'place', u'its', u'proximity', u'to', u'the', u'nigerian', u'border', u'gives', u'the', u'appearance', u'that', u'more', u'is', u'going', u'on', u'than', u'actually', u'is', u'though', u'there', u'are', u'still', u'some', u'hot', u'spots', u'such', u'as', u'the', u'grand', u'marche', u'd', u'adjara', u'where', u'you', u'can', u'buy', u'drums', u'cloth', u'baskets', u'and', u'the', u'best', u'pottery', u'in', u'benin', u'the', u'musee', u'ethnographique', u'de', u'porto', u'novo', u'has', u'a', u'great', u'collection', u'of', u'yoruba', u'artefacts', u'you', u'can', u'also', u'visit', u'the', u'ornate', u'brazilian', u'style', u'church', u'now', u'a', u'mosque']\n"
     ]
    }
   ],
   "source": [
    "print(descriptions[1])"
   ]
  },
  {
   "cell_type": "code",
   "execution_count": 30,
   "metadata": {},
   "outputs": [],
   "source": [
    "stemmer = PorterStemmer()"
   ]
  },
  {
   "cell_type": "code",
   "execution_count": 31,
   "metadata": {},
   "outputs": [],
   "source": [
    "stems = [[stemmer.stem(w.lower()) for w in sent] for sent in descriptions]"
   ]
  },
  {
   "cell_type": "code",
   "execution_count": 32,
   "metadata": {},
   "outputs": [
    {
     "name": "stdout",
     "output_type": "stream",
     "text": [
      "[u'attract', u'offici', u'the', u'capit', u'the', u'govern', u'long', u'ago', u'move', u'itself', u'and', u'most', u'of', u'it', u'busi', u'km', u'mi', u'west', u'to', u'coton', u'nevertheless', u'thi', u'town', u'of', u'some', u'peopl', u'remain', u'a', u'beauti', u'and', u'histor', u'place', u'it', u'proxim', u'to', u'the', u'nigerian', u'border', u'give', u'the', u'appear', u'that', u'more', u'is', u'go', u'on', u'than', u'actual', u'is', u'though', u'there', u'are', u'still', u'some', u'hot', u'spot', u'such', u'as', u'the', u'grand', u'march', u'd', u'adjara', u'where', u'you', u'can', u'buy', u'drum', u'cloth', u'basket', u'and', u'the', u'best', u'potteri', u'in', u'benin', u'the', u'muse', u'ethnographiqu', u'de', u'porto', u'novo', u'ha', u'a', u'great', u'collect', u'of', u'yoruba', u'artefact', u'you', u'can', u'also', u'visit', u'the', u'ornat', u'brazilian', u'style', u'church', u'now', u'a', u'mosqu']\n"
     ]
    }
   ],
   "source": [
    "print(stems[1])"
   ]
  },
  {
   "cell_type": "code",
   "execution_count": 33,
   "metadata": {},
   "outputs": [],
   "source": [
    "inv_idx = defaultdict(set)\n",
    "for i, row in enumerate(stems):\n",
    "    for w in row:\n",
    "        inv_idx[w].add(i)"
   ]
  },
  {
   "cell_type": "code",
   "execution_count": 34,
   "metadata": {},
   "outputs": [],
   "source": [
    "min_df = 10\n",
    "max_df = 0.8\n",
    "nd = len(data)\n",
    "vocab = list(filter(lambda x: min_df <= len(inv_idx[x]) <= nd * max_df and x not in stopwords, inv_idx.keys()))\n",
    "vocab_idx = {w: i for i, w in enumerate(vocab)}"
   ]
  },
  {
   "cell_type": "code",
   "execution_count": 35,
   "metadata": {},
   "outputs": [
    {
     "name": "stdout",
     "output_type": "stream",
     "text": [
      "3068\n"
     ]
    }
   ],
   "source": [
    "print(len(vocab_idx))"
   ]
  },
  {
   "cell_type": "code",
   "execution_count": 36,
   "metadata": {},
   "outputs": [],
   "source": [
    "idf = {}\n",
    "filt_inv_idx = {}\n",
    "for w in vocab:\n",
    "    idf[w] = np.log((nd) / (1 + len(inv_idx[w])) + 1)\n",
    "    filt_inv_idx[w] = inv_idx[w]"
   ]
  },
  {
   "cell_type": "code",
   "execution_count": 37,
   "metadata": {},
   "outputs": [],
   "source": [
    "doc_mat = np.zeros((nd, len(vocab)))\n",
    "\n",
    "for i, row in enumerate(stems):\n",
    "    counter = Counter(row)\n",
    "    for w, count in counter.items():\n",
    "        if w in idf:\n",
    "            doc_mat[i, vocab_idx[w]] = idf[w] * count\n",
    "norm = np.linalg.norm(doc_mat, axis=1)[:, np.newaxis] + 1e-8\n",
    "doc_mat = doc_mat / norm"
   ]
  },
  {
   "cell_type": "code",
   "execution_count": 38,
   "metadata": {},
   "outputs": [
    {
     "name": "stdout",
     "output_type": "stream",
     "text": [
      "[u'tropic', 'beach']\n"
     ]
    }
   ],
   "source": [
    "raw_query = tokenize('tropical beach')\n",
    "query = [stemmer.stem(w) for w in raw_query]\n",
    "print(query)"
   ]
  },
  {
   "cell_type": "code",
   "execution_count": 39,
   "metadata": {},
   "outputs": [
    {
     "name": "stdout",
     "output_type": "stream",
     "text": [
      "['North East Asia', u'South Korea', u'obt', u\"Off the Beaten Track  Samcheok itself, on the northeast coast, hasn't much to recommend it, but the beaches to its south are little gems set between steep cliffs and rocks. Geundeok Beach is off the main road and consequently a bit more isolated than the other beaches - the scenery here is terrific. Yonghwa Beach has a freshwater stream, lots of minbak (rooms in private houses) to stay in, and plenty of seafood to eat. Imwon Beach is only 200m (218 yards) long, but is dramatically set in a cliff-lined cove, with sea caves to investigate. Other, more developed, beach resorts also line this part of the coast. The easiest way to get to all of these beaches is to drive yourself, but irregular local buses also cruise the coast road.  \\n\"]\n",
      "['Caribbean', u'Aruba', u'activities', u\"Activities  Aruba has the best beaches in the Dutch Caribbean and arguably some of the finest in the region, especially if you don't mind lounging in the shadow of large hotels. The island's most popular beaches are along the developed stretch of the reef-protected leeward coast, northeast of Oranjestad. They include the resort areas of Druif Beach, Palm Beach and Eagle Beach. Less crowded beaches include Arasji Beach, on the island's northwestern tip; the cove at Baby Beach, at the island's southeastern extremity; and undeveloped Boca Grandi, one of the few places to swim on the exposed northern coast.  Aruba has fantastic windsurfing, thanks to consistently strong trade winds. The favored spot for experienced surfers is Fisherman's Hut, just north of Palm Beach. Malmok, just a little further north, is a good place to find your windsurfing wings while Boca Grandi and Bachelor's Beach in the southeast are popular with those wanting a little more elbow room. There's plenty of windsurfing gear for hire. Good swimmers can try boogie-boarding at Andicuri on the central northern coast.  There's diving and snorkeling on the reef that runs along Aruba's leeward coast. Visibility can often reach 100ft (30m) and there's plenty of marine life, but the diving is not as spectacular as that available off neighboring Bonaire and Cura ao. The WWII-era wrecks of a scuttled German freighter and a tanker, both off the coast of Malmok, are favored dive spots. Snorkeling spots include Boca Grandi, which has good elkhorn coral, Palm Beach and Baby Beach.   Yachts offer coastal cruises with snorkeling and swimming stops and are also available for private charter. If you're interested in deep-sea fishing, you can catch bonito, kingfish and marlin. Naturalist-led hiking tours can be arranged through the Aruba Tourism Authority, and there are horses for rent at Daimari in the island's north.  \\n\"]\n",
      "['Caribbean', u'Barbados', u'activities', u\"Activities  Barbados is blessed with beaches and has good swimming, snorkeling and diving. Some of the island's prettiest beaches and calmest waters are along the western coast; top spots include Paynes Bay, Sandy Bay and Mullins Bay. The southwestern side of the island also has fine beaches, including Sandy Beach near Worthing, and Dover Beach, just south of St Lawrence. On the southeastern side is Crane Beach, a scenic stretch of pink-tinged sand that's popular for bodysurfing but rough for swimming. The eastern coast has dangerous water conditions, including rocky shelves and strong currents, suitable for only the most confident swimmers.  The western coast of Barbados has reef dives with soft corals, gorgonians and colorful sponges. There are about a dozen accessible shipwrecks, some - such as the Berwyn in Carlisle Bay - lie at good snorkeling depths. The island has excellent windsurfing conditions from November to June at Maxwell and Silver Sands, and good surfing at the Soup Bowl, South Point and Rockley Beach.  The Barbados National Trust leads weekly guided hikes in the countryside on local history, geology, flora and fauna. You can also arrange horseback riding along the beach at Mullins Bay.  \\n\"]\n",
      "['North America', u'Molokai', u'obt', u\"Off the Beaten Track  Moomomi Beach is ecologically unique: one of the few undisturbed coastal sand dune areas left in Hawaii. Among its grasses and shrubs are at least five endangered plant species that exist nowhere else in the world. There's also evidence it is one of the few populated islands where green sea turtles can still find a habitat suitable for breeding.  This beach may be something of a secret due to a small confusion created by its name: Moomomi Beach is not the small sandy beach at Moomomi Bay favoured by sunbathers. Instead take a 20-minute walk west of Moomomi Bay into Kawaaloa Bay: that's where you'll find the Moomomi Beach, which maybe should have been called Kawaaloa Beach. Or whatever. It's worth the extra trouble: three miles of lonely, wild shoreline encompassing a huge crescent bay. If you're driving, Moomomi Beach is accessible by dirt road only - not recommended for rental cars.  \\n\"]\n",
      "['North America', u'Santa Barbara', u'activities', u\"Activities  Like any self-respecting Californian beach city, Santa Barbara offers 'awesome' swimming, surfing, kayaking, sailing, jet skiing and jet boating, and if that isn't enough, you can go whale-watching on a state-of-the-art high-speed catamaran operating from Santa Barbara Harbor and the Channel Islands.  Of Santa Barbara's several beaches, the biggest and most popular is East Beach, the long sandy stretch between Stearns Wharf and Montecito. But there's also Butterfly Beach, at the east end of East Beach, where Armani swimsuits and Gucci sunglasses abound; and West Beach, between Stearns Wharf and the harbor, which has calm water and is popular with families and tourists staying in nearby motels. On the other side of the harbor, Leadbetter Beach is a good spot for surfing and windsurfing.  There are some excellent hiking trails around the Santa Ynez foothills, most of which cut through rugged chaparral and steep canyons and offer spectacular coastal views. There are also hiking trails all over the Los Padres National Forest, as well as camping, horseback riding and mountain biking. You can hire bikes in Santa Barbara for cycling along the Cabrillo Bikeway on the beachfront between the Andree Clark Bird Refuge and Leadbetter Beach, and along the Goleta Bikeway, which continues west to UCSB.  \\n\"]\n",
      "['Caribbean', u'Antigua And Barbuda', u'activities', u\"Activities  Most of Antigua's many beaches, with their white or light golden sands, are protected by coral reefs, and all are officially public. Prime spots include the adjacent Dickenson and Runaway beaches on the eastern coast, Deep Bay and Hawksbill Beach to the west of St John's, and Darkwood Beach to the south of Jolly Harbour. On the eastern coast, Half Moon Bay is a top contender. In the English Harbour area, Galleon Beach and secluded Pigeon Beach are good sites. The far ends of some public beaches, including the northern end of Dickenson, are favored by topless bathers; nude bathing is also practiced along a section of Hawksbill Beach.  Antigua has some excellent diving, with coral canyons, wall drops and sea caves. Marine life includes turtles, sharks, barracuda and reef fish. Antigua's sheltered western coast is good for inexperienced windsurfers, while the exposed eastern coast has onshore winds good for slalom and wave-slalom sailing. The other major watersport is game fishing - there are plenty of marlin, tuna and wahoo.  The historical society, which operates the Museum of Antigua & Barbuda, sponsors a monthly cultural or environmental theme hike. Walks average about 90 minutes in duration and typically include visits to old estates or interesting landscapes.  Small, low-key Barbuda is a good place for travelers craving quiet, uncrowded spaces. There's excellent bird watching at Codrington Lagoon, home to a large colony of frigate birds. The island also offers places to snorkel, relax and bake in the sun.  \\n\"]\n",
      "['Europe', u'Alicante', u'activities', u\"Activities  Most visitors to Alicante get to their hotel and then head straight out to the city's gorgeous beaches. There are a multitude of watersports to get the adrenaline pumping, or you can take a leisurely swim or snorkel - if you can drag yourself off your beach towel, that is. The main urban beach, El Postiguet, sits on the Northwestern side of town, at the end of the Explanada de Espana. The nearby La Playa de San Juan offers 7km (4mi) of wide, open beachfront and golden white sands. If you're looking for something more secluded, there's La Albufereta, a small beach sheltered by the headland of the Serra Grossa. If you want a beach where you can get naked, head for Los Judios (Spanish for 'without pants') or the El Saladar (Spanish for 'sunburnt love-parts'). But it's not all beaches and nudity - Alicante also offers tennis and golf, as well as mountain climbing in the nearby Sierra Aitana and scuba diving off the coast of the Isla de Tabarca.  As the sun sets over the beach, get into your hotpants and get on up to Alicante's many bars and nightclubs. You'll find most of the best clubs in the old city centre or El Barrio, but there's also good music and dance action to be found along the Explanada de Espana.  \\n\"]\n",
      "['North America', u'Los Angeles', u'activities', u\"Activities  If skimpy bikinis and fast-food picnics aren't to your taste, the northern end of Santa Monica Bay is a welcome sanctuary from LA's babe-watch scene. Beach-lovers can indulge in coastal hikes, tide-pool gazing, swimming, surfing, diving, fishing and (clothing-optional) sunbathing. Rock climbers test themselves on the cliffs at Point Dume, while Escondido Beach has the best diving in the bay.  There's a whale-watching platform at nearby Westward Beach and a nature trail that leads to Zuma Beach County Park, a couple of miles to the north. Zuma is the largest and sandiest of LA's county-owned beaches, with rough surf and plenty of oily hardbodies.  LA's southern beaches include Manhattan Beach, jampacked on summer days with surfers, volleyball players and the American-as-apple-pie local residents - it's arguably the nearest thing you'll find to the 'California Dream.' Just south of Manhattan Beach, Redondo is one of LA's more intriguing beaches. At its northern end is King Harbor, a small-boat marina and fishermen's haven. Huntington Beach, just southeast of Long Beach and northwest of Newport, is a favorite of the surfer set.  If you've heard it once, you've heard it a thousand times: LA is a city where you can surf at the beach in the morning and ski in the snowfields in the afternoon - as long as you get up early and have a warm wetsuit. The main area for downhill skiing is Big Bear in the San Bernardino Mountains, 100mi (161km) northeast of LA. The season lasts from mid-December until March or April and, contrary to the cliche, the skiing is generally only good in the morning. Groomed runs and moguls are excellent, but don't expect much powder. The best part about Big Bear is the weather - sunshine 90% of the time and T-shirt temperatures in spring.  Shopping, star-spotting and rollercoaster screaming are LA's prime activities, but if you're keen for something a little more outdoorsy, LA has plenty to offer. Urban hiking is your best bet, but if you need to get space and a bit of greenery, LA's surrounding mountains are good day-hike destinations. Try the rugged Santa Monica Mountains or the Topanga State Park, both inland from Malibu, or Griffith Park, a few miles northwest of downtown.  Although smoggy LA is not particularly inviting to cyclists, the county has more than 200mi (320km) of bike trails. Best of the bunch is the South Bay Bicycle Trail, stretching 20mi (35km) from Santa Monica to Torrance Beach.  Prefer sitting on your butt and watching other people exert themselves? The LA Dodgers baseball team plays from April to October at Dodger Stadium, just north of downtown. To check out basketball greats the LA Lakers, head to the Staples Center near the Convention Center, southeast of downtown, during the winter months. UCLA's college basketball team, the Bruins, is one of the best in the country and well worth a look.  \\n\"]\n",
      "['Caribbean', u'Grenada', u'obt', u'Off the Beaten Track  This undeveloped beach of speckled coral sands offers a 30-foot-wide pool protected from the strong Atlantic Ocean currents by a rock shelf that parallels the northside of the shoreline. A new visitor facility has some simple displays on shells, coral and ecology, as well as restrooms. Off the beach are three islands: Sugar Loaf is a privately owned island with a cottage on its south shore; Green Island has a few abandoned buildings and no beach; and Sandy Island has an abandoned hotel and a nice beach for swimming and snorkeling on its leeward side. Bathways Beach can be reached by vehicle along a good road leading northeast from River Sallee, and fishing boats can be chartered from Sauteurs to the islands offshore.  \\n']\n",
      "['Caribbean', u'Sint Eustatius', u'obt', u\"Off the Beaten Track  Zeelandia, 3km northeast of Oranjestad, takes its name from Statia's first Dutch settlers, who were from Zeeland province in the Netherlands. It's a nice spot for a stroll, though the dark-sand beach at Zeelandia Bay collects a fair share of flotsam and is not a good beach for swimming. You can find private niches by walking south along the beach towards the cliffs.  If you're up for a longer walk, a track from the main road leads north to the semi-secluded Venus Bay. There's no beach, but it makes for a nice hike, taking about 45 minutes each way.  \\n\"]\n",
      "['North America', u'Miami', u'attractions', u\"Attractions  Most people come to Miami Beach for its beaches, clubs and bars, and to witness one of the most spectacular redesigns in modern architectural history. The Art Deco Historic District, a collection of bright pink, lavender and turquoise buildings dating from the 1920s, is one of the largest areas on the US National Register of Historic Places. Its protection and renovation has been one of the major reasons for the rebirth of Miami as a top notch tourist destination. The Deco district is in the heart of funky South Beach (SoBe), the southwestern section of Miami Beach.  For a city beach, Miami Beach is one of the best around. The water is clear and warm, the sand relatively white and, best of all, it's wide enough and long enough to accommodate the throngs. The Promenade is a Deco-ish, wavy ribbon of concrete at the Beach's westernmost edge. If you've ever looked at a fashion magazine, you've seen it: it's the photo shoot site. If you show up early in the morning, you're likely to see shoots in progress. This is also the hot spot for in-line skaters, bicyclists, skateboarders, dog walkers and people watchers to mill about bumping into each other.  Miami Beach has a strong Jewish culture mixed with a dash of Latin flair: there's even a Cuban-Jewish Congregation. The city's Holocaust Memorial, in the middle of Miami Beach, was created through the efforts of Miami Beach Holocaust survivors. It's an elaborate, exquisitely detailed and moving memorial. Like the Kaddish, the Jewish prayer for the dead that does not once mention death but rather speaks only of life, the Memorial is a testament to humankind's perseverance and the hope for a better world.  Miami Beach is attached to the city of Miami, 4 miles (6km) to its west, by a series of causeways.  \\n\"]\n",
      "['Caribbean', u'Saint Martin', u'activities', u\"Activities  Although lying motionless in worship to the sun - regularly fortified by rum cocktails - is one very attractive holidaying option, St Martin offers a surfeit of more energetic activities. There's swimming at a myriad of gorgeous beaches, from busy clothing-optional Orient Beach and secluded Long Beach to swimming-snorkelling beaches such as Baie Rouge and the islets off the northeast coast.  Serious divers spend their time on more southerly islands such as St Lucia and St Vincent & the Grenadines, but everyone else should find some decent local diving across the border at Dutch Sint Maarten's Proselyte Reef. If you prefer a snorkel mask to an oxygen tank you'll find Baie Rouge and the islands of Green Cay and let Pinel the perfect spots for snorkelling. For some of the Eastern Caribbean's best windsurfing point your sail at Orient Bay and the north end of Baie de I'Embouchure.  If you don't want to get wet, try hiking around the island; the most popular route winds up to Pic Paradis, St Martin's highest point. Golf is also on offer for landlubbers, but you'll need to travel across to Mullet Beach in Sint Maarten - well worth the trip if you like the idea of teeing off among palm trees and the deep-blue water of the Caribbean. If you really want to live out the beach fantasy, saddle up for some horseriding along Orient Beach, Baie Lucas or Anse Marcel.  \\n\"]\n",
      "['Australasia', u'Melbourne', u'obt', u\"Off the Beaten Track  At the entrance to Westernport Bay, southeast of the city, Phillip Island is rugged and windswept with plenty of beaches, a fascinating collection of wildlife and several old-fashioned townships. The island's Penguin Parade is one of the country's most popular tourist attractions. Every evening the little penguins at Summerland Beach emerge from the sea and waddle up the beach to their nests, seemingly oblivious to the busloads of camera-toting tourists. In the southwest of the island, Seal Rocks is inhabited by Australia's largest colony of fur seals, or you can head inland to the Koala Conservation Centre and check out the little cuddly fellas with the sharp fingers.  The island's surf beach, Woolamai, is renowned for its strong rips, but there are also safer bay beaches for less-daring swimmers. Churchill Island is a small island with an historic homestead, beautiful gardens and a museum of old farming machinery, as well as some great short walks.  \\n\"]\n",
      "['North America', u'Hawaii', u'attractions', u\"Attractions  Oahu, nicknamed 'The Gathering Place', is the most populous, most developed and most well known of the Hawaiian Islands. The names and images most commonly conjured up by the mention of Hawaii are all here: Honolulu, Waikiki, Pearl Harbor and Sunset Beach. The state capital, Honolulu, is the major exit/entry point for travelers. Honolulu and Waikiki form a relentless urban area of freeways and high rises that resembles a hybrid of Miami Beach and downtown Tokyo. The vast majority of the island's tourist infrastructure is located in this area.  Outside the urban perimeter are all the beaches you could wish for, aqua-blue bays, fluted mountains and valleys carpeted with pineapple fields. The island's surf beaches (try Banzai Pipeline, Sunset Beach, Makaha) are legendary, but there is also great bodysurfing (Makapuu Beach, Waimea Bay), windsurfing (Kailua Bay), snorkeling (Hanauma Bay) and diving (Three Tables and nearby Shark's Cove).  \\n\"]\n",
      "['Pacific', u'Cook Islands', u'obt', u\"Off the Beaten Track  Atiu may be the best kept secret in the Cooks, with beautiful scenery, excellent beaches and few other visitors. The island itself is a geological curiosity: surrounded by ring of raised fossilised coral - a feature known as a makatea - a kilometre wide, with a flat-topped, 70m (230ft) hill. As a result, the island resembles a very low-brimmed hat with a flat outer rim.  Aside from Taunganui Harbour, where the water's deep and clear, there isn't much in the way of swimming, though Atiu's beautiful beaches are great for strolling and sunning. Many beaches are a short walk from the coastal road, though you'll have to push through the bush to get to some of them. Oravaru Beach, on the western coast, is thought to be Captain Cook's landing spot. Between Tarapaku Landing and Oneroa Beach on the north-eastern coast are the Three Grottoes, which can only be visited when the sea is calm on the eastern side of the island. Oneroa itself is a great spot for finding seashells - or finding old shoes, which seem to wash up in large numbers. At low tide, the lagoon between Takauroa Beach and Matai Landing drains out through sinkholes, which are then good for snorkeling. You can also walk out from the beach along the reef at low tide to the Coral Garden, which is filled with trapped tropical fish.  The steep road between Tarapaku Landing and Tengatangi Village passes through plantations, taro fields, pawpaw trees, makatea, littoral forest and a long wall called the Vairakai Marae, constructed from 47 large limestone slabs. When you reach the top, you can make the circuit of the island's five villages, all within a kilometre of each other. A highlight of Atiu's village life is the Fibre Arts Studio, located in Teenui in the north-west. The studio specialises in tivaevae, the colourful patterned bedspreads that are among the most famous handicrafts of the Cook Islands. You can custom order a quilt or buy one of the many other hangings, handbags and other accessories available.  Toward the south-eastern corner of the village circuit is the Atiu Island Coffee Factory, where you can watch the coffee beans being hulled, roasted and packed. You can also tour the coffee plantation and sample some island brew. Back down on the makatea there are dozens of caves, many of which can be explored. You may want to take a guided tour, though, as it's easy to get lost.  There are several daily flights between Atiu and Rarotonga, and inter-island passenger freighters sail regularly to Atiu.  \\n\"]\n",
      "['Caribbean', u'Sint Maarten', u'activities', u'Activities  Sint Maarten has beautiful white-sand beaches, ranging from crowded resort strands to long secluded sweeps. Most of the best and least developed beaches are on the French side. Dawn Beach has good snorkeling and swimming. Snorkelers can expect to find waving sea fans, soft corals and small tropical fish. When the swell picks up, Mullet Bay can be good for bodyboarding.  The most popular diving is at Proselyte Reef, a few kilometers south of Philipsburg, where in 1802 the British frigate HMS Proselyte sank in 15m (50ft) of water. There are 10 other dive sites in that area, including coral reefs with caverns.  The island has good bicycling. You can cruise around Simpson Bay Lagoon, or cross to the French side and pump up to the top of 425m (1395ft) Pic Paradis.  \\n']\n",
      "['South America', u'Rio De Janeiro', u'obt', u'Off the Beaten Track  This is the most isolated and unspoiled beach close to the city. With mountains and natural vegetation, this beautiful setting is quiet during the week, but packed on weekends with Cariocas looking to get away from the city-beach chaos. Part of this stretch (4km/2.5mi) has been set aside as an Environmental Protection Area, which should stop it from becoming more cheesecake for the rich. Cinema buffs should note that scenes from the movie Blame it on Rio were filmed here.  Other beaches down south include Recreio, Prainha and Marambaia, which are all very beautiful and worth exploring. They are not easily accessible by public transportation and only get busy on the weekends. Prainha is one of the best surfing beaches in Rio.  \\n']\n",
      "['Caribbean', u'Trinidad And Tobago', u'obt', u\"Off the Beaten Track  Trinidad's east coast is wild and rural, a mix of lonely beaches, rough Atlantic waters, mangrove swamps and coconut plantations. You may not encounter another traveler along the entire coast, but you will encounter free-roaming cows, water buffaloes, vultures, egrets and herons. The main east coast beach, Manzanilla Beach, has brown sand, palm trees and white beach morning glory.  \\n\"]\n",
      "['North America', u'Honolulu', u'activities', u\"Activities  Honolulu's beaches are good for swimming year round, though the surf can get rough from June to August. If crashing waves are what brought you here, the area boasts hundreds of surfing locales, the most famous of which line Oahu's North Coast. Boogie boarding is the scene stealer at Kapahulu Groin in Waikiki, while the most popular bodysurfing breaks are at Sandy Beach Park and Makapuu Beach Park in southeastern Oahu.  The best spot for snorkeling close to Waikiki Beach is Sans Souci Beach, east of the resorts. Hanauma Bay in southeastern Oahu is better still. Oahu's best dive sites are between Hanauma Bay and Honolulu; the optimum time to explore them is between December and March. Windsurfers flock to Fort DeRussy Beach, at the western end of Waikiki.  The trail to the top of Diamond Head is a favorite route for hiking, as are the Manoa Falls Trail and the Tantalus and Makiki Valley network of trails, about 2 miles (3.2km) north of downtown Honolulu. Running and jogging are ridiculously popular, especially in the Kapiolani and Ala Moana parks, both near Waikiki.  \\n\"]\n",
      "['Caribbean', u'Guadeloupe', u'activities', u\"Activities  Guadeloupe has many fine beaches, some of which are of the clothing-optional variety. There are white-sand beaches in the resort towns of Gosier, Sainte-Anne and Saint-Fran ois. On the northern side of the peninsula leading to Pointe des Ch teaux are a couple of remote beaches: Anse a la Gourde, a gorgeous sweep of white coral sands, and Anse Tarare, an adjacent nudist beach. While most of Grande-Terre's eastern coast has rough surf, there's a swimmable beach at Le Moule and a little protected cove at Porte d'Enfer. On the western side of Grande-Terre, Port-Louis is the most popular swimming spot, with a broad sandy beach that attracts weekend crowds. On Basse-Terre, the best beaches are along the northern side of the island just north of Deshaies: Grande Anse beach, with its expansive golden sands, and Plage de Tillet, a secluded clothing-optional cove.  The country has many first-rate snorkeling and diving sites. Guadeloupe's top diving site is the Reserve Cousteau at Pigeon Island off the western coast of Basse-Terre. Ilet du Gosier, which can be reached by boat from Gosier on Grande-Terre, is a snorkeler's dream. Spearfishing has long been banned and consequently the island's waters are teeming with fish, sponges, sea fans and corals.  Guadeloupe has good surfing from October to May at Le Moule, Port-Louis and Anse Bertrand, and from June through August at Sainte-Anne, Saint-Fran ois and Petit-Havre. Windsurfing is centered near the resorts on the southern side of Grande-Terre and on the island of Terre-de-Haut.  You can hike many short trails on Guadeloupe that take in waterfalls, primordial rainforest and botanical gardens. Serious hikers head for longer, more rigorous trails in the Parc National de la Guadeloupe, including one to the volcanic summit of La Soufriere and another to the base of Chutes du Carbet, the Eastern Caribbean's highest waterfalls.  \\n\"]\n"
     ]
    }
   ],
   "source": [
    "accum = np.zeros(len(data))\n",
    "for q in query:\n",
    "    if q in vocab_idx:\n",
    "        for doc in inv_idx[q]:\n",
    "            accum[doc] += doc_mat[doc, vocab_idx[q]]\n",
    "ranking = accum.argsort()[::-1]\n",
    "regions = []\n",
    "\n",
    "for r in ranking:\n",
    "    if len(regions) >= 20:\n",
    "        break\n",
    "    print(data[r])\n",
    "    regions.append(data[r][1])"
   ]
  },
  {
   "cell_type": "code",
   "execution_count": 82,
   "metadata": {},
   "outputs": [
    {
     "name": "stdout",
     "output_type": "stream",
     "text": [
      "[u'South Korea', u'Aruba', u'Barbados', u'Molokai', u'Santa Barbara', u'Antigua And Barbuda', u'Alicante', u'Los Angeles', u'Grenada', u'Sint Eustatius', u'Miami', u'Saint Martin', u'Melbourne', u'Hawaii', u'Cook Islands', u'Sint Maarten', u'Rio De Janeiro', u'Trinidad And Tobago', u'Honolulu', u'Guadeloupe']\n"
     ]
    }
   ],
   "source": [
    "print(regions)"
   ]
  },
  {
   "cell_type": "code",
   "execution_count": 38,
   "metadata": {},
   "outputs": [
    {
     "name": "stdout",
     "output_type": "stream",
     "text": [
      "[  30 1231 1139 ...  792 1557  900]\n"
     ]
    }
   ],
   "source": [
    "print(ranking)"
   ]
  },
  {
   "cell_type": "code",
   "execution_count": 63,
   "metadata": {},
   "outputs": [],
   "source": [
    "# Dump raw LP text data\n",
    "with open('data/LP_raw.pickle', 'wb') as f:\n",
    "    pickle.dump(data, f, protocol=2)\n",
    "\n",
    "# Dump pickled inverted index\n",
    "with open('data/inv_idx.pickle', 'wb') as f:\n",
    "    pickle.dump(inv_idx, f, protocol=2)\n",
    "\n",
    "# Dump pickled TF-IDF matrix\n",
    "with open('data/tfidf_mat.pickle', 'wb') as f:\n",
    "    pickle.dump(doc_mat, f, protocol=2)\n",
    "    \n",
    "# Dump pickled vocab index matrix\n",
    "with open('data/vocab_idx.pickle', 'wb') as f:\n",
    "    pickle.dump(vocab_idx, f, protocol=2)"
   ]
  },
  {
   "cell_type": "code",
   "execution_count": 88,
   "metadata": {},
   "outputs": [
    {
     "name": "stdout",
     "output_type": "stream",
     "text": [
      "[['The Hollywood Museum', 5.0, '1660 N Highland Ave, Hollywood, CA 90028, USA'], ['Madame Tussauds Hollywood', 5.0, '6933 Hollywood Blvd, Hollywood, CA 90028, USA'], ['OUE Skyspace LA', 4.0, '633 W 5th St #840, Los Angeles, CA 90071, USA'], ['Hollywood Wax Museum', 5.0, '6767 Hollywood Blvd, Los Angeles, CA 90028, USA'], [\"Ripley's Believe It or Not!\", 5.0, '6780 Hollywood Blvd, Hollywood, CA 90028, USA'], ['L.A. Hood Life Tours', 5.0, '6326 Hollywood Blvd, Los Angeles, CA 90028, USA'], ['Little Tokyo', 5.0, '319 E 2nd St #202, Los Angeles, CA 90013, USA'], ['Arlene Dahl Star', 4.0, '1668, 1658 Vine St, Los Angeles, CA 90028, USA'], ['Robert F. Kennedy Inspiration Park', 5.0, '3384 Wilshire Blvd, Los Angeles, CA 90010, USA'], ['Edm Hall', 4.0, '123 Astronaut E S Onizuka St, Los Angeles, CA 90012, USA'], ['Mural \"La Brea\"', 4.0, '181 South La Brea Ave, Los Angeles, CA 90036, USA'], ['Korean Pavilion', 5.0, '1000 Normandie Ave, Los Angeles, CA 90006, USA'], ['Adam 12 Police Station', 5.0, '2710 W Temple St, Los Angeles, CA 90026, USA'], ['Los Angeles USA Tours', 4.0, '6672 Hollywood Blvd, Los Angeles, CA 90028, USA'], ['Dolet Hills Oxbow Mine', 5.0, '4, 5350 W Olympic Blvd, Los Angeles, CA 90019, USA'], ['Griffith Observatory', 5.0, '2800 E Observatory Rd, Los Angeles, CA 90027, USA'], ['Public Art \"A Bear in LA\"', 5.0, 'Imperial St, Los Angeles, CA 90021, USA'], ['Public Art \"Hammering Man\"', 5.0, '110 E 9th St, Los Angeles, CA 90079, USA'], ['Ghostbusters Interior Firehouse', 5.0, '225 E 5th St, Los Angeles, CA 90013, USA'], ['Hollywood Sign', 4.0, 'Los Angeles, CA 90068, USA'], ['Los Angeles State Historic Park', 4.0, '1245 N Spring St, Los Angeles, CA 90012, USA'], ['Barnsdall Art Park', 4.0, '4800 Hollywood Blvd, Los Angeles, CA 90027, USA'], ['Grand Park', 5.0, '200 N Grand Ave, Los Angeles, CA 90012, USA'], ['Exposition Park Rose Garden', 5.0, '701 State Dr, Los Angeles, CA 90037, USA'], ['Shakespeare Bridge Garden', 5.0, '1900 Monon St, Los Angeles, CA 90027, USA'], ['Echo Park', 5.0, '1632 Bellevue Ave, Los Angeles, CA 90026, USA'], ['Lincoln Park', 5.0, '3501 Valley Blvd, Los Angeles, CA 90031, USA'], ['Hollenbeck Park', 4.0, '415 S St Louis St, Los Angeles, CA 90033, USA'], ['Hermon Park (Arroyo Seco Park)', 5.0, '5566 Via Marisol, Los Angeles, CA 90042, USA'], ['Vista Hermosa Natural Park', 5.0, '100 N Toluca St, Los Angeles, CA 90026, USA'], ['Rio de Los Angeles State Park', 1.0, '1900 N San Fernando Rd, Los Angeles, CA 90065, USA'], ['Grand Hope Park', 4.0, '919 S Grand Ave, Los Angeles, CA 90015, USA'], ['McCarthy Quad', 5.0, '3551 Trousdale Pkwy, Los Angeles, CA 90089, USA'], ['Alpine Recreation Center', 5.0, '817 Yale St, Los Angeles, CA 90012, USA'], ['Kawada Hotel', 5.0, '200 S Hill St, Los Angeles, CA 90012, USA'], ['Miyako Hotel Los Angeles', 5.0, '328 E 1st St, Los Angeles, CA 90012, USA'], ['Metro Plaza Hotel', 3.0, '711 N Main St, Los Angeles, CA 90012, USA'], ['Hilton Checkers Los Angeles', 2.0, '535 S Grand Ave, Los Angeles, CA 90071, USA'], ['The Westin Bonaventure Hotel & Suites, Los Angeles', 5.0, '404 S Figueroa St, Los Angeles, CA 90071, USA'], ['Stay on Main Hotel', 5.0, '640 S Main St, Los Angeles, CA 90014, USA'], ['The L.A. Grand Hotel Downtown', 2.0, '333 S Figueroa St, Los Angeles, CA 90071, USA'], ['The Los Angeles Athletic Club', 5.0, '431 W 7th St, Los Angeles, CA 90014, USA'], ['The Standard, Downtown LA', 5.0, '550 S Flower St, Los Angeles, CA 90071, USA'], ['Best Western Plus Dragon Gate Inn', 5.0, '818 N Hill St, Los Angeles, CA 90012, USA'], ['Sheraton Grand Los Angeles', 5.0, '711 S Hope St, Los Angeles, CA 90017, USA'], ['The Milner Hotel Downtown Los Angeles', 3.0, '813 S Flower St, Los Angeles, CA 90017, USA'], ['The Royal Pagoda Motel', 5.0, '995 N Broadway, Los Angeles, CA 90012, USA'], ['Knights Inn Los Angeles Central/Convention Center Area', 5.0, '1255 W Temple St, Los Angeles, CA 90026, USA'], ['Americas Best Value Inn - Los Angeles W 7th Street', 3.0, '1123 W 7th St, Los Angeles, CA 90017, USA'], ['City Center Hotel', 2.0, '1135 W 7th St, Los Angeles, CA 90017, USA'], ['Hotel Figueroa', 5.0, '939 S Figueroa St, Los Angeles, CA 90015, USA']]\n"
     ]
    }
   ],
   "source": [
    "google_place_pickle = open(\"data/google_place.pickle\",\"rb\")\n",
    "google_places = pickle.load(google_place_pickle)\n",
    "print(google_places[\"los angeles\"])"
   ]
  },
  {
   "cell_type": "code",
   "execution_count": 78,
   "metadata": {},
   "outputs": [],
   "source": [
    "def getTopPlacesInRegion(region):\n",
    "    topPlaces = []\n",
    "    \n",
    "    sortedPlaces = sorted(google_places[region], key = lambda x: x[1], reverse = True)\n",
    "    for place in sortedPlaces:\n",
    "        topPlaces.append((place[0], place[2]))\n",
    "    \n",
    "    return topPlaces"
   ]
  },
  {
   "cell_type": "code",
   "execution_count": 79,
   "metadata": {},
   "outputs": [
    {
     "data": {
      "text/plain": [
       "[('Cincinnati Food Tours', '1801 Race St, Cincinnati, OH 45202, USA'),\n",
       " ('Gibbon Islands', 'Dury Ave, Cincinnati, OH 45220, USA'),\n",
       " ('Children\\xe2\\x80\\x99s Zoo', 'Forest Ave, Cincinnati, OH 45220, USA'),\n",
       " ('Statue of James A. Garfield', '801-811 Vine St, Cincinnati, OH 45202, USA'),\n",
       " ('Cheetah Encounter', 'Dury Ave, Cincinnati, OH 45220, USA'),\n",
       " ('World Peace Bell Center', '425 York St, Newport, KY 41071, USA'),\n",
       " ('American Legacy Tours', '1332 Vine St, Cincinnati, OH 45202, USA'),\n",
       " ('Newport Aquarium', '1 Dave Cowens Dr, Newport, KY 41071, USA'),\n",
       " ('Fox Preserve', '5801 McCray Ct, Cincinnati, OH 45224, USA'),\n",
       " ('Cincinnati USA Regional Tourism Network',\n",
       "  '50 E Rivercenter Blvd #1100, Covington, KY 41011, USA'),\n",
       " ('Roadtrippers', '131 E McMicken Ave, Cincinnati, OH 45202, USA'),\n",
       " ('New Riff Distilling', '24 Distillery Way, Newport, KY 41073, USA'),\n",
       " ('Findlay Market', '1801 Race St, Cincinnati, OH 45202, USA'),\n",
       " ('Krohn Conservatory', '1501 Eden Park Dr, Cincinnati, OH 45202, USA'),\n",
       " ('Otto Armleder Dog Park', '5057 Wooster Pike, Cincinnati, OH 45226, USA'),\n",
       " ('Washington Park', '1230 Elm St, Cincinnati, OH 45202, USA'),\n",
       " ('Cincinnati City Park Water',\n",
       "  '705 E Pete Rose Way, Cincinnati, OH 45202, USA'),\n",
       " ('Alms Park', '710 Tusculum Ave, Cincinnati, OH 45226, USA'),\n",
       " ('Fountain Square South Garage', '416 Vine St, Cincinnati, OH 45202, USA'),\n",
       " ('Smale Riverfront Park', '100 Ted Berry Way, Cincinnati, OH 45202, USA'),\n",
       " (\"Yeatman's Cove\", '705 E Pete Rose Way, Cincinnati, OH 45202, USA'),\n",
       " ('Burnet Woods', '3251 Brookline Ave, Cincinnati, OH 45220, USA'),\n",
       " ('The Cincinnatian Hotel', '601 Vine St, Cincinnati, OH 45202, USA'),\n",
       " ('The Westin Cincinnati', '21 E 5th St, Cincinnati, OH 45202, USA'),\n",
       " ('Residence Inn by Marriott Cincinnati Downtown/The Phelps',\n",
       "  '506 E 4th St, Cincinnati, OH 45202, USA'),\n",
       " ('Cincinnati Marriott at RiverCenter',\n",
       "  '10 W Rivercenter Blvd, Covington, KY 41011, USA'),\n",
       " ('Radisson Hotel Cincinnati Riverfront',\n",
       "  '668 W 5th St, Covington, KY 41011, USA'),\n",
       " ('Hampton Inn & Suites Cincinnati/Uptown',\n",
       "  '3024 Vine St, Cincinnati, OH 45219, USA'),\n",
       " ('Holiday Inn Express & Suites Cincinnati SE Newport',\n",
       "  '110 Landmark Dr, Bellevue, KY 41073, USA'),\n",
       " ('Renaissance Cincinnati Downtown Hotel',\n",
       "  '36 E 4th St, Cincinnati, OH 45202, USA'),\n",
       " ('Xavier University', '3800 Victory Pkwy, Cincinnati, OH 45207, USA'),\n",
       " ('Monkey Island', 'Vine St, Cincinnati, OH 45220, USA'),\n",
       " ('Mushroom House', '3518 Tarpis Ave, Cincinnati, OH 45208, USA'),\n",
       " ('Flottman Company', '720 Centre View Blvd, Crestview Hills, KY 41017, USA'),\n",
       " ('Newport on the Levee', '1 Levee Way, Newport, KY 41071, USA'),\n",
       " ('Cincinnati Zoo & Botanical Garden',\n",
       "  '3400 Vine St, Cincinnati, OH 45220, USA'),\n",
       " ('Eden Park', '950 Eden Park Dr, Cincinnati, OH 45202, USA'),\n",
       " ('Devou Park', '1201 Park Dr, Covington, KY 41011, USA'),\n",
       " ('Friendship Park', '1135 Riverside Dr, Cincinnati, OH 45202, USA'),\n",
       " ('Westwood Town Center Historic District', 'Cincinnati, OH 45211, USA'),\n",
       " ('Hilton Cincinnati Netherland Plaza',\n",
       "  '35 W 5th St, Cincinnati, OH 45202, USA'),\n",
       " ('Hyatt Regency Cincinnati', '151 W 5th St, Cincinnati, OH 45202, USA'),\n",
       " ('Kingsgate Marriott Conference Center at the University of Cincinnati',\n",
       "  'Marriott Kingsgate Conference Center, 151 Goodman Dr, Cincinnati, OH 45219, USA'),\n",
       " ('Rapid Run Park', '4450 Rapid Run Rd, Cincinnati, OH 45205, USA'),\n",
       " ('Courtyard by Marriott Cincinnati Covington',\n",
       "  '500 W 3rd St, Covington, KY 41011, USA'),\n",
       " ('The Garage OTR - Home of Segway of Cincinnati',\n",
       "  '1150 Vine St, Cincinnati, OH 45202, USA'),\n",
       " ('Millennium Hotel Cincinnati', '150 W 5th St, Cincinnati, OH 45202, USA'),\n",
       " ('Embassy Suites by Hilton Cincinnati RiverCenter',\n",
       "  '10 E Rivercenter Blvd, Covington, KY 41011, USA'),\n",
       " ('Northern Kentucky University', 'Nunn Dr, Highland Heights, KY 41099, USA'),\n",
       " ('Cincinnati Christian University',\n",
       "  '2700 Glenway Ave, Cincinnati, OH 45204, USA')]"
      ]
     },
     "execution_count": 79,
     "metadata": {},
     "output_type": "execute_result"
    }
   ],
   "source": [
    "getTopPlacesInRegion(\"cincinnati\")"
   ]
  },
  {
   "cell_type": "code",
   "execution_count": 9,
   "metadata": {},
   "outputs": [],
   "source": [
    "import requests\n",
    "import json\n",
    "from math import sin, cos, sqrt, atan2, radians"
   ]
  },
  {
   "cell_type": "code",
   "execution_count": 10,
   "metadata": {},
   "outputs": [],
   "source": [
    "def getUsersLatLong():\n",
    "    send_url = 'http://freegeoip.net/json'\n",
    "    r = requests.get(send_url)\n",
    "    j = json.loads(r.text)\n",
    "    lat = j['latitude']\n",
    "    lon = j['longitude']\n",
    "    return lat, lon"
   ]
  },
  {
   "cell_type": "code",
   "execution_count": 11,
   "metadata": {},
   "outputs": [
    {
     "name": "stdout",
     "output_type": "stream",
     "text": [
      "(42.4072, -76.5159)\n"
     ]
    }
   ],
   "source": [
    "print(getUsersLatLong())"
   ]
  },
  {
   "cell_type": "code",
   "execution_count": 12,
   "metadata": {},
   "outputs": [],
   "source": [
    "with open('data/destination_geocode.json') as f:\n",
    "\tgeocode = json.load(f)"
   ]
  },
  {
   "cell_type": "code",
   "execution_count": 15,
   "metadata": {},
   "outputs": [],
   "source": [
    "def distBetweenLatLongKM(lat1, lon1, lat2, lon2):\n",
    "    lat1 = radians(lat1)\n",
    "    lon1 = radians(lon1)\n",
    "    lat2 = radians(lat2)\n",
    "    lon2 = radians(lon2)\n",
    "\n",
    "    R = 6373.0\n",
    "\n",
    "    dlon = lon2 - lon1\n",
    "    dlat = lat2 - lat1\n",
    "\n",
    "    a = sin(dlat / 2)**2 + cos(lat1) * cos(lat2) * sin(dlon / 2)**2\n",
    "    c = 2 * atan2(sqrt(a), sqrt(1 - a))\n",
    "\n",
    "    distance = R * c\n",
    "    \n",
    "    return distance"
   ]
  },
  {
   "cell_type": "code",
   "execution_count": 16,
   "metadata": {},
   "outputs": [
    {
     "name": "stdout",
     "output_type": "stream",
     "text": [
      "278.545589351\n"
     ]
    }
   ],
   "source": [
    "print(distBetweenLatLongKM(52.2296756, 21.0122287, 52.406374, 16.9251681))"
   ]
  },
  {
   "cell_type": "code",
   "execution_count": 42,
   "metadata": {},
   "outputs": [],
   "source": [
    "def filterRegionsWithinDistance(maxDistanceKM, regions):\n",
    "    userLat, userLong = getUsersLatLong()\n",
    "    filteredRegions = []\n",
    "    \n",
    "    for region in regions:\n",
    "        lat = geocode[region.lower()]['results'][0]['geometry']['location']['lat']\n",
    "        lon = geocode[region.lower()]['results'][0]['geometry']['location']['lng']\n",
    "        if distBetweenLatLongKM(userLat, userLong, lat, lon) <= maxDistanceKM:\n",
    "            filteredRegions.append(region)\n",
    "        \n",
    "    return filteredRegions"
   ]
  },
  {
   "cell_type": "code",
   "execution_count": 47,
   "metadata": {},
   "outputs": [
    {
     "name": "stdout",
     "output_type": "stream",
     "text": [
      "[u'Miami', u'Saint Martin', u'Sint Maarten']\n"
     ]
    }
   ],
   "source": [
    "print(filterRegionsWithinDistance(3000, regions))"
   ]
  },
  {
   "cell_type": "code",
   "execution_count": null,
   "metadata": {},
   "outputs": [],
   "source": []
  }
 ],
 "metadata": {
  "kernelspec": {
   "display_name": "Python 2",
   "language": "python",
   "name": "python2"
  },
  "language_info": {
   "codemirror_mode": {
    "name": "ipython",
    "version": 2
   },
   "file_extension": ".py",
   "mimetype": "text/x-python",
   "name": "python",
   "nbconvert_exporter": "python",
   "pygments_lexer": "ipython2",
   "version": "2.7.12"
  }
 },
 "nbformat": 4,
 "nbformat_minor": 2
}
