{
 "cells": [
  {
   "cell_type": "code",
   "execution_count": 1,
   "metadata": {},
   "outputs": [],
   "source": [
    "import nltk\n",
    "from nltk.stem.porter import *\n",
    "import matplotlib.pyplot as plt\n",
    "import numpy as np\n",
    "from collections import Counter, defaultdict\n",
    "import re\n",
    "from scipy.spatial.distance import cdist\n",
    "import pickle\n",
    "\n",
    "regions = ['africa',\n",
    "           'antarctica',\n",
    "           'australasia',\n",
    "           'caribbean',\n",
    "           'central_america',\n",
    "           'central_asia',\n",
    "           'europe',\n",
    "           'indian_subcontinent',\n",
    "           'middle_east',\n",
    "           'north_america',\n",
    "           'north_east asia',\n",
    "           'pacific',\n",
    "           'south_america',\n",
    "           'south_east_asia',\n",
    "           'north_east_asia']"
   ]
  },
  {
   "cell_type": "code",
   "execution_count": 2,
   "metadata": {},
   "outputs": [],
   "source": [
    "data = []\n",
    "with open('data/FlatCorpus.txt', encoding='utf-8-sig') as f:\n",
    "    for line in f:\n",
    "        title, text = line.split(':  ')\n",
    "        region = ''\n",
    "        for r in regions:\n",
    "            if title.startswith(r):\n",
    "                region = ' '.join(map(lambda x: x.capitalize(), r.split('_')))\n",
    "                break\n",
    "        split_title = title[len(region) + 1:].split('_')\n",
    "        entry_type = split_title[-1].split('.')[0]\n",
    "        city = ' '.join(map(lambda x: x.capitalize(), split_title[:-1]))\n",
    "        row = [region, city, entry_type, text]\n",
    "        data.append(row)"
   ]
  },
  {
   "cell_type": "code",
   "execution_count": 3,
   "metadata": {},
   "outputs": [
    {
     "name": "stdout",
     "output_type": "stream",
     "text": [
      "['North America', 'Atlantic City', 'activities', \"Activities  Atlantic City is not the place to visit if you're into the outdoors. The most burning of calories you'll achive will be getting out of bed and slouching in front of a slot machine. The city's rules and regulations conspire to keep it this way. While the Boardwalk is a good spot, in theory, for cycling, bikes are only allowed between the hours of 6-10 am.  If you want some exercise, you're better off leaving Atlantic City and heading for the peaceful Pine Barrens, where there's no shortage of hiking in the huge pine forest. In Egg Harbor, you can rent equipment to canoe and kayak through the Pines. Wildwood's coast has some decent beaches from which people parasail. Whalewatching trips run from North Wildwood and Cape May throughout the summer.  \\n\"]\n"
     ]
    }
   ],
   "source": [
    "print(data[1165])"
   ]
  },
  {
   "cell_type": "code",
   "execution_count": 4,
   "metadata": {},
   "outputs": [
    {
     "name": "stdout",
     "output_type": "stream",
     "text": [
      "1801\n"
     ]
    }
   ],
   "source": [
    "print(len(data))"
   ]
  },
  {
   "cell_type": "code",
   "execution_count": 5,
   "metadata": {},
   "outputs": [],
   "source": [
    "# Dump raw LP text data\n",
    "# with open('data/LP_raw.pickle', 'wb') as f:\n",
    "#     pickle.dump(data, f)"
   ]
  },
  {
   "cell_type": "code",
   "execution_count": 6,
   "metadata": {},
   "outputs": [],
   "source": [
    "countries = [row[0] for row in data]\n",
    "cities = [row[1] for row in data]\n",
    "types = [row[2] for row in data]"
   ]
  },
  {
   "cell_type": "code",
   "execution_count": 7,
   "metadata": {},
   "outputs": [],
   "source": [
    "stopwords = set(nltk.corpus.stopwords.words('english'))"
   ]
  },
  {
   "cell_type": "code",
   "execution_count": 8,
   "metadata": {},
   "outputs": [],
   "source": [
    "def tokenize(sent):\n",
    "    return re.findall('[a-zA-Z]+', sent)"
   ]
  },
  {
   "cell_type": "code",
   "execution_count": 9,
   "metadata": {},
   "outputs": [],
   "source": [
    "descriptions = [[w.lower() for w in tokenize(row[3])] for row in data]"
   ]
  },
  {
   "cell_type": "code",
   "execution_count": 10,
   "metadata": {},
   "outputs": [
    {
     "name": "stdout",
     "output_type": "stream",
     "text": [
      "['attractions', 'officially', 'the', 'capital', 'the', 'government', 'long', 'ago', 'moved', 'itself', 'and', 'most', 'of', 'its', 'business', 'km', 'mi', 'west', 'to', 'cotonou', 'nevertheless', 'this', 'town', 'of', 'some', 'people', 'remains', 'a', 'beautiful', 'and', 'historical', 'place', 'its', 'proximity', 'to', 'the', 'nigerian', 'border', 'gives', 'the', 'appearance', 'that', 'more', 'is', 'going', 'on', 'than', 'actually', 'is', 'though', 'there', 'are', 'still', 'some', 'hot', 'spots', 'such', 'as', 'the', 'grand', 'marche', 'd', 'adjara', 'where', 'you', 'can', 'buy', 'drums', 'cloth', 'baskets', 'and', 'the', 'best', 'pottery', 'in', 'benin', 'the', 'musee', 'ethnographique', 'de', 'porto', 'novo', 'has', 'a', 'great', 'collection', 'of', 'yoruba', 'artefacts', 'you', 'can', 'also', 'visit', 'the', 'ornate', 'brazilian', 'style', 'church', 'now', 'a', 'mosque']\n"
     ]
    }
   ],
   "source": [
    "print(descriptions[1])"
   ]
  },
  {
   "cell_type": "code",
   "execution_count": 11,
   "metadata": {},
   "outputs": [],
   "source": [
    "stemmer = PorterStemmer()"
   ]
  },
  {
   "cell_type": "code",
   "execution_count": 12,
   "metadata": {},
   "outputs": [],
   "source": [
    "stems = [[stemmer.stem(w.lower()) for w in sent] for sent in descriptions]"
   ]
  },
  {
   "cell_type": "code",
   "execution_count": 13,
   "metadata": {},
   "outputs": [
    {
     "name": "stdout",
     "output_type": "stream",
     "text": [
      "['attract', 'offici', 'the', 'capit', 'the', 'govern', 'long', 'ago', 'move', 'itself', 'and', 'most', 'of', 'it', 'busi', 'km', 'mi', 'west', 'to', 'coton', 'nevertheless', 'thi', 'town', 'of', 'some', 'peopl', 'remain', 'a', 'beauti', 'and', 'histor', 'place', 'it', 'proxim', 'to', 'the', 'nigerian', 'border', 'give', 'the', 'appear', 'that', 'more', 'is', 'go', 'on', 'than', 'actual', 'is', 'though', 'there', 'are', 'still', 'some', 'hot', 'spot', 'such', 'as', 'the', 'grand', 'march', 'd', 'adjara', 'where', 'you', 'can', 'buy', 'drum', 'cloth', 'basket', 'and', 'the', 'best', 'potteri', 'in', 'benin', 'the', 'muse', 'ethnographiqu', 'de', 'porto', 'novo', 'ha', 'a', 'great', 'collect', 'of', 'yoruba', 'artefact', 'you', 'can', 'also', 'visit', 'the', 'ornat', 'brazilian', 'style', 'church', 'now', 'a', 'mosqu']\n"
     ]
    }
   ],
   "source": [
    "print(stems[1])"
   ]
  },
  {
   "cell_type": "code",
   "execution_count": 14,
   "metadata": {},
   "outputs": [],
   "source": [
    "inv_idx = defaultdict(set)\n",
    "for i, row in enumerate(stems):\n",
    "    for w in row:\n",
    "        inv_idx[w].add(i)"
   ]
  },
  {
   "cell_type": "code",
   "execution_count": 15,
   "metadata": {},
   "outputs": [],
   "source": [
    "min_df = 10\n",
    "max_df = 0.8\n",
    "nd = len(data)\n",
    "vocab = list(filter(lambda x: min_df <= len(inv_idx[x]) <= nd * max_df and x not in stopwords, inv_idx.keys()))\n",
    "vocab_idx = {w: i for i, w in enumerate(vocab)}"
   ]
  },
  {
   "cell_type": "code",
   "execution_count": 16,
   "metadata": {},
   "outputs": [
    {
     "name": "stdout",
     "output_type": "stream",
     "text": [
      "3068\n"
     ]
    }
   ],
   "source": [
    "print(len(vocab_idx))"
   ]
  },
  {
   "cell_type": "code",
   "execution_count": 17,
   "metadata": {},
   "outputs": [],
   "source": [
    "idf = {}\n",
    "filt_inv_idx = {}\n",
    "for w in vocab:\n",
    "    idf[w] = np.log((nd) / (1 + len(inv_idx[w])) + 1)\n",
    "    filt_inv_idx[w] = inv_idx[w]"
   ]
  },
  {
   "cell_type": "code",
   "execution_count": 18,
   "metadata": {},
   "outputs": [],
   "source": [
    "# Dump pickled inverted index\n",
    "# with open('inv_idx.pickle', 'wb') as f:\n",
    "#     pickle.dump(filt_inv_idx, f)"
   ]
  },
  {
   "cell_type": "code",
   "execution_count": 19,
   "metadata": {},
   "outputs": [],
   "source": [
    "doc_mat = np.zeros((nd, len(vocab)))\n",
    "\n",
    "for i, row in enumerate(stems):\n",
    "    counter = Counter(row)\n",
    "    for w, count in counter.items():\n",
    "        if w in idf:\n",
    "            doc_mat[i, vocab_idx[w]] = idf[w] * count\n",
    "norm = np.linalg.norm(doc_mat, axis=1)[:, np.newaxis] + 1e-8\n",
    "doc_mat = doc_mat / norm"
   ]
  },
  {
   "cell_type": "code",
   "execution_count": 20,
   "metadata": {},
   "outputs": [],
   "source": [
    "# Dump pickled TF-IDF matrix\n",
    "# with open('data/tfidf_mat.pickle', 'wb') as f:\n",
    "#     pickle.dump(doc_mat, f)"
   ]
  },
  {
   "cell_type": "code",
   "execution_count": 21,
   "metadata": {},
   "outputs": [
    {
     "name": "stdout",
     "output_type": "stream",
     "text": [
      "['urban', 'citi', 'shop']\n"
     ]
    }
   ],
   "source": [
    "raw_query = tokenize('urban city shopping')\n",
    "query = [stemmer.stem(w) for w in raw_query]\n",
    "print(query)"
   ]
  },
  {
   "cell_type": "code",
   "execution_count": 22,
   "metadata": {},
   "outputs": [],
   "source": [
    "accum = np.zeros(len(data))\n",
    "for q in query:\n",
    "    if q in idf:\n",
    "        for doc in inv_idx[q]:\n",
    "            accum[doc] += doc_mat[doc, vocab_idx[q]]\n",
    "ranking = accum.argsort()[::-1]"
   ]
  },
  {
   "cell_type": "code",
   "execution_count": 23,
   "metadata": {},
   "outputs": [
    {
     "name": "stdout",
     "output_type": "stream",
     "text": [
      "['Africa', 'Cape Verde', 'attractions', \"Attractions  S o Tiago is the main island and home to the capital, Praia. The city isn't the most beautiful of the archipelago's two cities (this distinction belongs to Mindelo), but it's a pleasant place, with its centre perched on a rocky plateau known as Plat. This central area is surrounded by urban sprawl in three directions. The city's two beaches, Praia Mar and Quebra-Canela, are west of the centre.  For a half-day trip out of Praia, go to the Cidade Velha (Old City), the first town built by the Portuguese on the islands. There are great views of the village on the climb up to Fort Real de S o Felipe. The Old City is about 10km (6mi) west of Praia. Some 20km (12mi) inland from Praia, the village of S o Domingos is the closest green agricultural valley to the capital. There are one or two shops selling handicrafts. At the northern end of S o Tiago is the island's second largest settlement, Tarrafal, which is famous for its beaches. It can be reached by chartered bus from Praia.  \\n\"]\n",
      "['Middle East', 'Yemen', 'obt', \"Off the Beaten Track  Once the capital of the kingdom of Ma'in, Barqish stands beside a wadi in the north of Yemen. The city was a thriving centre for a few decades around 400BC; it had huge city walls, punctuated by dozens of impressive watchtowers, which surrounded a tightly built urban settlement.  There's not a lot left of Barqish these days - you can still see the city wall, but the rest of the city is deserted and ruined. Old stones with Minaean inscriptions have been used as patches on the city wall, and you'll find the ruins of a mosque and a temple in the centre of the town.  Baraqish is about 100km (60mi) north-east of San'a. There's no public transport between the two cities, so you'll need to take a tour or hire a taxi in Ma'rib, the closest big town.  \\n\"]\n",
      "['Middle East', 'Israel And The Palestinian Territories', 'attractions', \"Attractions  They don't come any holier than this. Jews, Muslims, Christians: all three hold Jerusalem sacred, and it seems all three would rather see it destroyed than have the others touch it. Of course, most people come to Jerusalem to immerse themselves in this holy history, but try to remember that Jerusalem is as much a modern city as a concept, as full of living, breathing people as ghosts and Biblical figures. The city is divided into three parts: the walled Old City, where most of the sights are; the predominantly Arab East Jerusalem; and the rapidly expanding new city, known as West Jerusalem. The Old City is also divided, into Armenian, Christian, Jewish and Muslim quarters.  To get an idea of the Old City, it's worth strolling around the city walls, built in the 16th century by Suleyman the Magnificent. Rising over the city is the Haram-ash Sharif/Temple Mount, centrepiece for all the squabbles. This is where Mohammed rose to heaven and where God instructed Abraham to sacrifice his son. The magnificent Dome of the Rock mosque dominates the Mount, with the Al-Aqsa Mosque and Islamic Museum a little to its south.  The Western Wall, at the base of the mount, is the most accessible of the four walls of the Second Temple, built by King Herod. This accessibility has made it a popular place for Jewish worship. To complete the holy sites trilogy, pop over to the Christian Quarter for a visit to the Church of the Holy Sepulchre. This church is built over the site where Jesus was (probably) crucified, buried and resurrected - its appeal relies on its historical links rather than its architectural splendour. Most people arrive here after walking down the Via Dolorosa, the route Jesus followed as he carried his cross.  If you've had enough religion, head out of the Old City to bustling, fume-hazed, Palestinian East Jerusalem, or the cafes and shopping centres of New Jerusalem. To the west of the city you'll find Yad Vashem, the moving and disturbing Jewish memorial to the holocaust. To the east is the Mount of Olives, where Jesus ascended to heaven and where more earthbound folk can get a beautiful view of the city.  Where you stay in Jerusalem really depends on what you want out of your visit. The Old City and East Jerusalem have the cheapest places and the best atmosphere, and they're closest to the sights. On the downside, it's a long walk to the cafes and nightlife of the New City, and the Old City pretty much shuts down after dark. If you're prepared to pay more, and if living it up is your priority, head for the New City. For really good, really cheap food, try the Mahane Yehuda market to the west of the Old City. The best places for felafel are below the city walls in East Jerusalem, or in the shopping precincts of the New City.  \\n\"]\n"
     ]
    }
   ],
   "source": [
    "for r in ranking[:3]:\n",
    "    print(data[r])"
   ]
  }
 ],
 "metadata": {
  "kernelspec": {
   "display_name": "Python 3",
   "language": "python",
   "name": "python3"
  },
  "language_info": {
   "codemirror_mode": {
    "name": "ipython",
    "version": 3
   },
   "file_extension": ".py",
   "mimetype": "text/x-python",
   "name": "python",
   "nbconvert_exporter": "python",
   "pygments_lexer": "ipython3",
   "version": "3.6.3"
  }
 },
 "nbformat": 4,
 "nbformat_minor": 2
}
