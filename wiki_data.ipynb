{
 "cells": [
  {
   "cell_type": "code",
   "execution_count": 3,
   "metadata": {},
   "outputs": [],
   "source": [
    "import requests\n",
    "import mwparserfromhell"
   ]
  },
  {
   "cell_type": "code",
   "execution_count": 38,
   "metadata": {},
   "outputs": [],
   "source": [
    "def parseWikiVoyageURL(url):\n",
    "    text = requests.get(url).text\n",
    "    wikicode = mwparserfromhell.parse(text)\n",
    "    ret = []\n",
    "    \n",
    "    for template in wikicode.filter_templates():\n",
    "        if template.name.contains(\"see\"):\n",
    "            hasContent = False\n",
    "            hasName = False\n",
    "            for param in template.params:\n",
    "                if \"content\" in str(param):\n",
    "                    hasContent = True\n",
    "                if \"name\" in str(param):\n",
    "                    hasName = True\n",
    "            if hasContent and hasName:\n",
    "                ret.append((template.get(\"name\").value, template.get(\"content\").value))\n",
    "    \n",
    "    return ret"
   ]
  },
  {
   "cell_type": "code",
   "execution_count": 39,
   "metadata": {},
   "outputs": [
    {
     "name": "stdout",
     "output_type": "stream",
     "text": [
      "[(u'Theatre of Dionysus ', u\"Classical Athens' main theatre, the first theatre ever built. Many of the great Greek plays were performed here for the first time. According to Plato's ''Symposium'', it could hold an audience of 19,000 spectators. Aristophanes' ''The Clouds'', mocking Socrates, was first performed here, and Plato considered this play to be a contributing factor in Socrates' trial and execution.\\\\n\"), (u'Odeon of Herodes Atticus ', u'This theatre, built in 161 CE, is still used for concerts and plays. The stone backdrop is still preserved to a remarkable height of 3 stories, because it was incorporated into a later fortification on the site.\\\\n'), (u'Pnyx ', u'If Athens is the birthplace of democracy, then Pnyx is its cradle. Around 507 BC this rocky hill, overlooking the Akropolis, became the meeting place the \\'\\'ekklesia\\'\\', Athens\\' early democratic assembly. This site thus witnessed addresses by Pericles, Aristides and Alcibiades during the \\\\\"Golden Age\\\\\" of Athens, and had a capacity for 6000 to 13,000 hearers. The site was redesigned several times creating three distinct phases in its history, until the \\'\\'ekklesia\\'\\' moved to the Theatre of Dionysos some time during the first century BC. During the Roman era Pnyx was instead used as a sanctuary of Zeus.\\\\n'), (u'Ancient Agora ', u'The site of the Ancient Agora in a green space with a beautiful view of the Acropolis. From the agora you can walk towards Acropolis. Extension of the agora is the Roman Forum. Contains the following sites:\\\\n'), (u'Temple of Hephaestus ', u'The best preserved ancient Greek temple, 5th century BC.\\\\n'), (u'Stoa of Attalus ', u'This reconstructed ancient building is used as a museum housing relics found in the Agora.\\\\n'), (u'Kerameikos', u'The site of the ancient cemetery of Athens. It also houses the Dipylon Gate, where the Panathenaic procession would begin. It is a museum showcasing many of the grave stele and other archaeological items found on the grounds.'), (u'Roman Agora ', u'At the west end of Plaka, it houses the Tower of the Winds, an eight-sided tower with a different wind deity on each side, the remains of ancient shops, and a fountain.\\\\n'), (u'Agias Apostoli ', u'One of the oldest churches in Athens (11th century), stands near the Agora.\\\\n'), (u'Temple of Olympian Zeus ', u'Only the ruins remain today. The column that has fallen and can still be seen in pieces was brought down during a thunderstorm about a century ago.\\\\n'), (u'The Lyceum ', u\"An ancient temple here hosted lectures by Socrates, Plato, and Aristotle, and early meetings of the Athenian Assembly. Aristotle made the temple the home of his school, the Lyceum. It hosted the world's first zoo and botanical garden, as well as a library which preserved classical Greek works for centuries afterwards. Rediscovered in 1996, the site can now be viewed outdoors. Entrance is from the north, from the same entrance as for the Byzantine and Christian museum.\\\\n\"), (u\"Plato's Academy \", u'This house of study was founded by the famous philosopher Plato. His equally famous follower Aristotle studied here for 20 years before leaving to found a school of his own. The site is an outdoor free park where you can see the excavated ruins. The ruins are not well explained or particularly impressive. The exact coordinates given here are for a sign which best explains the various ruins in the park. The site is a long unpleasant walk from all other historic sites, or a single bus route which runs slower than walking on the crowded streets.\\\\n'), (u'Daphni Monastery ', u'An 11th-century Byzantine monastery and [[UNESCO World Heritage site]]. Damaged by an earthquake in 1999, but has now been fully restored.\\\\n'), (u'Kaseriani Monastery and Gardens ', u\"A nice escape from the city in the foothills of Mount Hymettus. Walking trails. There's a functional monastery one can walk in, and several ruined chapels or basilicas up on the walks.\\\\n\"), (u'Panathinaiko Stadium ', u\"The stadium that housed the first modern day Olympic Games of 1896. Earlier versions of the stadium date as far back as 330 BCE. It's an enormous, white, marble stadium, with a horseshoe configuration.\\\\n\"), (u'Lycabettus Hill ', u'A 200m hill bordering the Kolonaki district. You can reach the top by walking or by a funicular railway (small charge). There is a cafe-restaurant with a great view of Athens towards the sea. From halfway up looking towards the sea there are astonishing views of the Parthenon with the blue of the sea glimpsed between its columns.\\\\n'), (u'National Theatre ', u'A low but imposing building erected between 1882 and 1890 by architect Ernst Ziller in the eclectic style of that age, commissioned by King George I.\\\\n'), (u'Syntagma Square ', u\"Check out the Parliament building and the newly restored Grande Bretagne Hotel. Also, catch the changing of the guards in front of the Parliament every hour on the hour. Their uniforms and walking style are very fun to see. Make sure you don't stand on the wrong side of them if you want to take a picture. If you accidentally do so, they will knock their gun and, as they are not allowed to speak, someone else from the guard will kindly ask you to change position.\\\\n\"), (u'Hellenic Parliament Building', u'Formerly the royal palace, lining the eastern side of the square and guarded by kilted and pom-pommed soldiers - the evzones (ev-zone-ees).'), (u'Tomb of the Unknown Soldier ', u'\\\\n'), (u'National Archaeological Museum of Athens ', u\"This is the largest and most popular of Athens' many museums, and is usually very crowded. Its vast collection includes treasures unearthed from Mycenae by Heinrich Schliemann; a staggering array of sculpture including the earliest known Greek figurines dating from around 2,000 BC; frescoes from the volcanic island of Santorini; and remains of Antikythera mechanism, the oldest known mechanical computer. It is recommended visitors make several visits to absorb it all.\\\\n\"), (u'New Acropolis Museum ', u'This long-overdue replacement for the musty old museum opened in 2009. Its design looks very \\\\\"modern\\\\\" from the outside, but on the inside it\\'s very intuitive. The top floor is a clever reproduction of the Parthenon with all the sculptures in the right places (and impressive views in every direction). Lower floors contain other finds from excavations, beautiful and interesting and well explained. in Makryanni just below the Acropolis, the museum is easily accessed from the Acropolis metro station.\\\\n'), (u'Kanellopoulos Museum ', u'A small but excellent museum displays artifacts from Mycenean Greece on, and includes some wonderful Persian artifacts.\\\\n'), (u'Benaki Museum of Greek Culture ', u'Visit the beautiful Neoclassical main building which houses collections of Greek art, from ancient times through the Byzantine period and the modern state. Open late and for free on Thursday evenings. The museum shop is a good place to buy souvenirs. There is a small selection at high prices but the quality is excellent.\\\\n'), (u'Museum of Cycladic Art ', u'Holds the second largest collection of Cypriot antiquities in the world outside Cyprus, after the Metropolitan Museum in New York. Some of the most popular exhibits include the Cycladic figurines, the idols from Early Bronze Age Cyclades, whose style greatly influenced modernist work in the 20th century, and Cypriot pottery and Ancient Greek artifacts, especially the \\\\u2018Scenes of Daily Life in Ancient Greece\\\\u2019 display, which is popular with families. They also sell great souvenirs, and lunch is available at the elegant Aethrion Caf\\\\u00e9. If you are lucky, there may be a quirky temporary exhibition too (with no extra entry fee), as they hold archaeological, modern and contemporary art exhibitions.\\\\n'), (u'Greek National Gallery ', u'Just south of Kolonaki, this museum exhibits Greek art from the 18th-20th centuries, and some El Greco and post-Byzantine art.\\\\n'), (u'Benaki Museum of Islamic Art ', u' An excellent collection which anyone interested in Islamic art will want to see. The museum was opened in 2004 as a branch of the Benaki, but is in a different part of town in two connected buildings.\\\\n'), (u'Museum of Greek Folk Art ', u' An excellent museum of its type. Too often neglected by visitors to Athens, even though it is in the heavily touristed Plaka neighbourhood. Displays include artefacts, tools, primitive painting, folk pottery and interior decor. It is particularly strong on costume and embroidery.\\\\n'), (u'Athens Municipal Art Gallery ', u' Paintings of Greek painters of the first half of the 20th century are displayed.\\\\n'), (u'Vorres Museum ', u'A diachronic museum of folk and contemporary art in Paiania, East Attica, Greece. Its grounds cover 320,000 m<sup>2</sup> (80 acres) including several buildings, gardens and courtyards. Its collection includes over 6000 pieces covering 4000 years of Greek history and art. The museum was donated by the Vorres family to the Greek state.\\\\n'), (u'National Historical Museum ', u'In the old parliament building on Stadiou Street a little northwest of Sytagma Square, this museum contains a large collection of historic documents such as the first constitution of Greece, furniture, equipment from the revolution. If you are lucky you may see the old session room.\\\\n'), (u'Numismatic Museum ', u'Situations just north of Syntagma Square, the building of the museum is one of the most beautiful in Athens, and was built by Ernst Ziller and was used as the residence in Athens of Schliemann. The collection contains thousands of ancient coins and ancient Greek, Roman, Byzantine, Medieval figurines.\\\\n'), (u'Museum of Greek Popular Musical Instruments ', u'1-3 Dioyenous, Plaka. A very interesting museum which includes exhibits of traditional Greek musical instruments, with recordings of most of them.\\\\n'), (u'National War Museum ', u\"Not in Kolonaki, but just across the street, the National War Museum is the only significant surviving public project of the military dictatorship which ruled Greece 1967 - 1974. The museum's displays are old fashioned and biased towards the more successful periods of Greek military history. The tanks, artillery guns and aircraft on display outside the museum form the most interesting part of its collection, and can be visited for free.\\\\n\"), (u'Park of Maritime Tradition ', u'Including the historical warships Georgios Averof and Velos.\\\\n'), (u'Hellenic Air Force Museum ', u'A number of old planes from as far back as the 1930s can be seen here.\\\\n'), (u'City of Athens Technopolis ', u'An industrial museum of incomparable architecture. The centre has assisted in the upgrading of a historic Athens district.\\\\n')]\n"
     ]
    }
   ],
   "source": [
    "print(parseWikiVoyageURL('https://en.wikivoyage.org/w/api.php?action=query&prop=revisions&rvprop=content&format=json&titles=Athens'))"
   ]
  },
  {
   "cell_type": "code",
   "execution_count": null,
   "metadata": {},
   "outputs": [],
   "source": []
  }
 ],
 "metadata": {
  "kernelspec": {
   "display_name": "Python 2",
   "language": "python",
   "name": "python2"
  },
  "language_info": {
   "codemirror_mode": {
    "name": "ipython",
    "version": 2
   },
   "file_extension": ".py",
   "mimetype": "text/x-python",
   "name": "python",
   "nbconvert_exporter": "python",
   "pygments_lexer": "ipython2",
   "version": "2.7.12"
  }
 },
 "nbformat": 4,
 "nbformat_minor": 2
}
