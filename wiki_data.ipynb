{
 "cells": [
  {
   "cell_type": "code",
   "execution_count": 3,
   "metadata": {},
   "outputs": [],
   "source": [
    "import requests\n",
    "import mwparserfromhell"
   ]
  },
  {
   "cell_type": "code",
   "execution_count": 9,
   "metadata": {},
   "outputs": [],
   "source": [
    "def parseWikiVoyageURL(url):\n",
    "    text = requests.get(url).text\n",
    "    wikicode = mwparserfromhell.parse(text)\n",
    "    ret = []\n",
    "    \n",
    "    for template in wikicode.filter_templates():\n",
    "        if template.name.contains(\"see\") or template.name.contains(\"do\"):\n",
    "            hasContent = False\n",
    "            hasName = False\n",
    "            for param in template.params:\n",
    "                if \"content=\" in str(param):\n",
    "                    hasContent = True\n",
    "                if \"name=\" in str(param):\n",
    "                    hasName = True\n",
    "            if hasContent and hasName:\n",
    "                ret.append((template.get(\"name\").value, template.get(\"content\").value))\n",
    "    \n",
    "    return ret"
   ]
  },
  {
   "cell_type": "code",
   "execution_count": 10,
   "metadata": {},
   "outputs": [
    {
     "name": "stdout",
     "output_type": "stream",
     "text": [
      "[(u'Theatre of Dionysus ', u\"Classical Athens' main theatre, the first theatre ever built. Many of the great Greek plays were performed here for the first time. According to Plato's ''Symposium'', it could hold an audience of 19,000 spectators. Aristophanes' ''The Clouds'', mocking Socrates, was first performed here, and Plato considered this play to be a contributing factor in Socrates' trial and execution.\\\\n\"), (u'Odeon of Herodes Atticus ', u'This theatre, built in 161 CE, is still used for concerts and plays. The stone backdrop is still preserved to a remarkable height of 3 stories, because it was incorporated into a later fortification on the site.\\\\n'), (u'Pnyx ', u'If Athens is the birthplace of democracy, then Pnyx is its cradle. Around 507 BC this rocky hill, overlooking the Akropolis, became the meeting place the \\'\\'ekklesia\\'\\', Athens\\' early democratic assembly. This site thus witnessed addresses by Pericles, Aristides and Alcibiades during the \\\\\"Golden Age\\\\\" of Athens, and had a capacity for 6000 to 13,000 hearers. The site was redesigned several times creating three distinct phases in its history, until the \\'\\'ekklesia\\'\\' moved to the Theatre of Dionysos some time during the first century BC. During the Roman era Pnyx was instead used as a sanctuary of Zeus.\\\\n'), (u'Ancient Agora ', u'The site of the Ancient Agora in a green space with a beautiful view of the Acropolis. From the agora you can walk towards Acropolis. Extension of the agora is the Roman Forum. Contains the following sites:\\\\n'), (u'Temple of Hephaestus ', u'The best preserved ancient Greek temple, 5th century BC.\\\\n'), (u'Stoa of Attalus ', u'This reconstructed ancient building is used as a museum housing relics found in the Agora.\\\\n'), (u'Kerameikos', u'The site of the ancient cemetery of Athens. It also houses the Dipylon Gate, where the Panathenaic procession would begin. It is a museum showcasing many of the grave stele and other archaeological items found on the grounds.'), (u'Roman Agora ', u'At the west end of Plaka, it houses the Tower of the Winds, an eight-sided tower with a different wind deity on each side, the remains of ancient shops, and a fountain.\\\\n'), (u'Agias Apostoli ', u'One of the oldest churches in Athens (11th century), stands near the Agora.\\\\n'), (u'Temple of Olympian Zeus ', u'Only the ruins remain today. The column that has fallen and can still be seen in pieces was brought down during a thunderstorm about a century ago.\\\\n'), (u'The Lyceum ', u\"An ancient temple here hosted lectures by Socrates, Plato, and Aristotle, and early meetings of the Athenian Assembly. Aristotle made the temple the home of his school, the Lyceum. It hosted the world's first zoo and botanical garden, as well as a library which preserved classical Greek works for centuries afterwards. Rediscovered in 1996, the site can now be viewed outdoors. Entrance is from the north, from the same entrance as for the Byzantine and Christian museum.\\\\n\"), (u\"Plato's Academy \", u'This house of study was founded by the famous philosopher Plato. His equally famous follower Aristotle studied here for 20 years before leaving to found a school of his own. The site is an outdoor free park where you can see the excavated ruins. The ruins are not well explained or particularly impressive. The exact coordinates given here are for a sign which best explains the various ruins in the park. The site is a long unpleasant walk from all other historic sites, or a single bus route which runs slower than walking on the crowded streets.\\\\n'), (u'Daphni Monastery ', u'An 11th-century Byzantine monastery and [[UNESCO World Heritage site]]. Damaged by an earthquake in 1999, but has now been fully restored.\\\\n'), (u'Kaseriani Monastery and Gardens ', u\"A nice escape from the city in the foothills of Mount Hymettus. Walking trails. There's a functional monastery one can walk in, and several ruined chapels or basilicas up on the walks.\\\\n\"), (u'Panathinaiko Stadium ', u\"The stadium that housed the first modern day Olympic Games of 1896. Earlier versions of the stadium date as far back as 330 BCE. It's an enormous, white, marble stadium, with a horseshoe configuration.\\\\n\"), (u'Lycabettus Hill ', u'A 200m hill bordering the Kolonaki district. You can reach the top by walking or by a funicular railway (small charge). There is a cafe-restaurant with a great view of Athens towards the sea. From halfway up looking towards the sea there are astonishing views of the Parthenon with the blue of the sea glimpsed between its columns.\\\\n'), (u'National Theatre ', u'A low but imposing building erected between 1882 and 1890 by architect Ernst Ziller in the eclectic style of that age, commissioned by King George I.\\\\n'), (u'Syntagma Square ', u\"Check out the Parliament building and the newly restored Grande Bretagne Hotel. Also, catch the changing of the guards in front of the Parliament every hour on the hour. Their uniforms and walking style are very fun to see. Make sure you don't stand on the wrong side of them if you want to take a picture. If you accidentally do so, they will knock their gun and, as they are not allowed to speak, someone else from the guard will kindly ask you to change position.\\\\n\"), (u'Hellenic Parliament Building', u'Formerly the royal palace, lining the eastern side of the square and guarded by kilted and pom-pommed soldiers - the evzones (ev-zone-ees).'), (u'Tomb of the Unknown Soldier ', u'\\\\n'), (u'National Archaeological Museum of Athens ', u\"This is the largest and most popular of Athens' many museums, and is usually very crowded. Its vast collection includes treasures unearthed from Mycenae by Heinrich Schliemann; a staggering array of sculpture including the earliest known Greek figurines dating from around 2,000 BC; frescoes from the volcanic island of Santorini; and remains of Antikythera mechanism, the oldest known mechanical computer. It is recommended visitors make several visits to absorb it all.\\\\n\"), (u'New Acropolis Museum ', u'This long-overdue replacement for the musty old museum opened in 2009. Its design looks very \\\\\"modern\\\\\" from the outside, but on the inside it\\'s very intuitive. The top floor is a clever reproduction of the Parthenon with all the sculptures in the right places (and impressive views in every direction). Lower floors contain other finds from excavations, beautiful and interesting and well explained. in Makryanni just below the Acropolis, the museum is easily accessed from the Acropolis metro station.\\\\n'), (u'Kanellopoulos Museum ', u'A small but excellent museum displays artifacts from Mycenean Greece on, and includes some wonderful Persian artifacts.\\\\n'), (u'Benaki Museum of Greek Culture ', u'Visit the beautiful Neoclassical main building which houses collections of Greek art, from ancient times through the Byzantine period and the modern state. Open late and for free on Thursday evenings. The museum shop is a good place to buy souvenirs. There is a small selection at high prices but the quality is excellent.\\\\n'), (u'Museum of Cycladic Art ', u'Holds the second largest collection of Cypriot antiquities in the world outside Cyprus, after the Metropolitan Museum in New York. Some of the most popular exhibits include the Cycladic figurines, the idols from Early Bronze Age Cyclades, whose style greatly influenced modernist work in the 20th century, and Cypriot pottery and Ancient Greek artifacts, especially the \\\\u2018Scenes of Daily Life in Ancient Greece\\\\u2019 display, which is popular with families. They also sell great souvenirs, and lunch is available at the elegant Aethrion Caf\\\\u00e9. If you are lucky, there may be a quirky temporary exhibition too (with no extra entry fee), as they hold archaeological, modern and contemporary art exhibitions.\\\\n'), (u'Greek National Gallery ', u'Just south of Kolonaki, this museum exhibits Greek art from the 18th-20th centuries, and some El Greco and post-Byzantine art.\\\\n'), (u'Benaki Museum of Islamic Art ', u' An excellent collection which anyone interested in Islamic art will want to see. The museum was opened in 2004 as a branch of the Benaki, but is in a different part of town in two connected buildings.\\\\n'), (u'Museum of Greek Folk Art ', u' An excellent museum of its type. Too often neglected by visitors to Athens, even though it is in the heavily touristed Plaka neighbourhood. Displays include artefacts, tools, primitive painting, folk pottery and interior decor. It is particularly strong on costume and embroidery.\\\\n'), (u'Athens Municipal Art Gallery ', u' Paintings of Greek painters of the first half of the 20th century are displayed.\\\\n'), (u'Vorres Museum ', u'A diachronic museum of folk and contemporary art in Paiania, East Attica, Greece. Its grounds cover 320,000 m<sup>2</sup> (80 acres) including several buildings, gardens and courtyards. Its collection includes over 6000 pieces covering 4000 years of Greek history and art. The museum was donated by the Vorres family to the Greek state.\\\\n'), (u'National Historical Museum ', u'In the old parliament building on Stadiou Street a little northwest of Sytagma Square, this museum contains a large collection of historic documents such as the first constitution of Greece, furniture, equipment from the revolution. If you are lucky you may see the old session room.\\\\n'), (u'Numismatic Museum ', u'Situations just north of Syntagma Square, the building of the museum is one of the most beautiful in Athens, and was built by Ernst Ziller and was used as the residence in Athens of Schliemann. The collection contains thousands of ancient coins and ancient Greek, Roman, Byzantine, Medieval figurines.\\\\n'), (u'Museum of Greek Popular Musical Instruments ', u'1-3 Dioyenous, Plaka. A very interesting museum which includes exhibits of traditional Greek musical instruments, with recordings of most of them.\\\\n'), (u'National War Museum ', u\"Not in Kolonaki, but just across the street, the National War Museum is the only significant surviving public project of the military dictatorship which ruled Greece 1967 - 1974. The museum's displays are old fashioned and biased towards the more successful periods of Greek military history. The tanks, artillery guns and aircraft on display outside the museum form the most interesting part of its collection, and can be visited for free.\\\\n\"), (u'Park of Maritime Tradition ', u'Including the historical warships Georgios Averof and Velos.\\\\n'), (u'Hellenic Air Force Museum ', u'A number of old planes from as far back as the 1930s can be seen here.\\\\n'), (u'City of Athens Technopolis ', u'An industrial museum of incomparable architecture. The centre has assisted in the upgrading of a historic Athens district.\\\\n'), (u'EasyCruise ', u'Syngrou Avenue 362, Kallithea, 176 74 Athinai. The infamous cheap flight company now runs a variety of cruises from Greece [Athens] to Turkey and surrounding islands such as Mykonos, Paros and Syros. For the classic enthusiast, their tour company visits Acropolis, Epidavros, Nemea, Mycenae, Corinth, Olympia and Delphi.\\\\n'), (u'National Gardens ', u'A Peaceful and beautiful park in the centre of Athens, easily the coolest place to hide from the summer sun. Wander around, check out the quirky art that seems to sprout up every now and again, look on in disbelief at the \\\\\"zoo\\\\\", sit on one of the benches, enjoy the luxuriant flowers and vegetation, marvel at the turtle and duck ponds, have a frappe in the cafe, and spot one of the resident tortoises exploring... it\\'s a fun place to hang out.\\\\n'), (u'Pedion tou Areos ', u'Covers 27.7 hectares, near the National Archaeological Museum.\\\\n'), (u'Dionysiou Aeropagitou street ', u'This landmark street starts from the Temple of Olympian Zeus at Vasilissis Olgas Avenue, continues under the southern slopes of the Acropolis near Plaka, and finishes just beyond the Temple of Hephaestus in Thiseio. The street has been pedestrianised, forming a scenic route. The entire route provides visitors with views of the Parthenon and the Agora (the meeting point of ancient Athenians), away from the busy city centre.\\\\n'), (u'Parnitha National Park\\\\n', u'Well-marked paths, gorges, springs, torrents and caves do the protected area. Hiking and mountain-biking in all four mountains remain popular outdoor activities for many residents of the city.\\\\n'), (u'Lake Vouliagmeni ', u'Immediately to the south of town and very close to the sea, a rare geophysical formation is to be found that gave the suburb its modern name: Lake Vouliagmeni (\\\\\"Sunk Lake\\\\\"), a small brackish water lake fed by underground currents seeping through the mass of Mount Hymettus. It was once a large cavern that collapsed following an earthquake, probably during the early Middle Ages. The outline of the collapsed cavern roof can be clearly discerned from a distance. The lake stands at a 40 cm elevation. It continues deep inside the mountain in an underwater cave never fully explored, as its end seems impossible to trace even by employing sonar detection. Many underwater expeditions have been carried out in order to chart it, and a few amateur divers have drowned trying. Because of its constant and comfortable water temperature (24 degrees Celsius year round), the lake functions as a year-round spa, there is an entrance fee. In the area operates a restaurant-bar.\\\\n'), (u'Sea Turtle Rescue Society Archelon ', u'They are regularly looking for volunteers who are willing to work on their own costs and are able to take care of injured sea turtles.\\\\n'), (u'Panathinaikos ', u'Dominates the Euroleague the last 15 years. Plays at Galis Olympic Indoor Hall.\\\\n'), (u'Panathinaikos ', u'Based at Apostolos Nikolaidis Stadium near central Athens.\\\\n'), (u'Nautical Club of Vouliagmeni ', u\"The club admits members and their guests and operates a marina, a waterskiing school, junior and Olympic competition sailing boats and facilities, an open-air, heated swimming pool, two rocky beaches, members' indoor and outdoor lounges, a gym, and a restaurant. The pool hosts swimming, finswimming, synchronized swimming and water polo teams and the respective training schools for children.\\\\n\"), (u'Glyfada Golf Club ', u'\\\\n'), (u'Athens Festival ', u'Runs from May to October each year. offers a wide spectrum of events covering almost every taste. Outside Athens, try to attend a performance at the ancient theater of [[Epidaurus]] - a truly unforgettable experience.\\\\n'), (u'Athens Concert Hall ', u'This venue attracts world-famous artists all year round.\\\\n'), (u'Stavros Niarchos Cultural Centre ', u'This complex in the seaside suburb of Kallithea has stunning views from its terrace all the way to the Acropolis on one side and of the coast on the other. Evening concerts and other cultural events take place here. The building, gardens and complex alone are worth a visit, and a free shuttle bus is provided from Syntagma Square. Check the web site for the free (optional) tours in English. The collection of the National Library of Greece is in the process of being transferred here, and one wing of the building contains an opera house (this part can only be visited as part of a free tour, if you are not attending an event in the auditorium).\\\\n')]\n"
     ]
    }
   ],
   "source": [
    "print(parseWikiVoyageURL('https://en.wikivoyage.org/w/api.php?action=query&prop=revisions&rvprop=content&format=json&titles=Athens'))"
   ]
  },
  {
   "cell_type": "code",
   "execution_count": 53,
   "metadata": {},
   "outputs": [],
   "source": [
    "from BeautifulSoup import BeautifulSoup\n",
    "import urllib2\n",
    "import re"
   ]
  },
  {
   "cell_type": "code",
   "execution_count": 58,
   "metadata": {},
   "outputs": [],
   "source": [
    "def getBannerPicURL(wikiVoyagePage):\n",
    "    try: # need to open with try\n",
    "        html_page = urllib2.urlopen(wikiVoyagePage)\n",
    "    except urllib2.HTTPError:\n",
    "        return \"\"\n",
    "    \n",
    "    soup = BeautifulSoup(html_page)\n",
    "    images = []\n",
    "    for img in soup.findAll('img'):\n",
    "        images.append(img.get('src'))\n",
    "\n",
    "    for imgUrl in images:\n",
    "        if \"banner\" in imgUrl.lower() and len(imgUrl) > 0:\n",
    "            return imgUrl\n",
    "        \n",
    "    return \"\""
   ]
  },
  {
   "cell_type": "code",
   "execution_count": 59,
   "metadata": {},
   "outputs": [
    {
     "name": "stdout",
     "output_type": "stream",
     "text": [
      "https://upload.wikimedia.org/wikipedia/commons/0/0b/Golden_Gate_Bridge_and_San_Francisco_banner.jpg\n"
     ]
    }
   ],
   "source": [
    "print(getBannerPicURL(\"https://en.wikivoyage.org/wiki/San_Francisco\"))"
   ]
  },
  {
   "cell_type": "code",
   "execution_count": 1,
   "metadata": {},
   "outputs": [],
   "source": [
    "import pickle\n",
    "import time"
   ]
  },
  {
   "cell_type": "code",
   "execution_count": 4,
   "metadata": {},
   "outputs": [],
   "source": [
    "with open(\"data/destinations.pickle\",\"rb\") as f:\n",
    "    destinations = list(pickle.load(f))"
   ]
  },
  {
   "cell_type": "code",
   "execution_count": 65,
   "metadata": {},
   "outputs": [],
   "source": [
    "def getPicturesForRange(destinations, startIndex, endIndex):\n",
    "    pictures = {}\n",
    "    \n",
    "    for destination in destinations[startIndex:endIndex]:\n",
    "        base_url = \"https://en.wikivoyage.org/wiki/\"\n",
    "        place = destination.replace(' ', '_').replace('-', '%20')\n",
    "        if place is \"Yugoslavia\":\n",
    "            continue\n",
    "        pictures[destination] = getBannerPicURL(base_url + place)\n",
    "    \n",
    "    return pictures"
   ]
  },
  {
   "cell_type": "code",
   "execution_count": 72,
   "metadata": {},
   "outputs": [],
   "source": [
    "pictures1 = getPicturesForRange(destinations, 0, 25)"
   ]
  },
  {
   "cell_type": "code",
   "execution_count": 74,
   "metadata": {},
   "outputs": [],
   "source": [
    "pictures2 = getPicturesForRange(destinations, 25, 40)"
   ]
  },
  {
   "cell_type": "code",
   "execution_count": 75,
   "metadata": {},
   "outputs": [],
   "source": [
    "pictures3 = getPicturesForRange(destinations, 40, 65)"
   ]
  },
  {
   "cell_type": "code",
   "execution_count": 76,
   "metadata": {},
   "outputs": [],
   "source": [
    "pictures4 = getPicturesForRange(destinations, 65, 90)"
   ]
  },
  {
   "cell_type": "code",
   "execution_count": 80,
   "metadata": {},
   "outputs": [],
   "source": [
    "pictures5 = getPicturesForRange(destinations, 90, 115)"
   ]
  },
  {
   "cell_type": "code",
   "execution_count": 81,
   "metadata": {},
   "outputs": [],
   "source": [
    "pictures6 = getPicturesForRange(destinations, 115, 130)"
   ]
  },
  {
   "cell_type": "code",
   "execution_count": 85,
   "metadata": {},
   "outputs": [],
   "source": [
    "pictures7 = getPicturesForRange(destinations, 130, 155)"
   ]
  },
  {
   "cell_type": "code",
   "execution_count": 87,
   "metadata": {},
   "outputs": [],
   "source": [
    "pictures8 = getPicturesForRange(destinations, 155, 180)"
   ]
  },
  {
   "cell_type": "code",
   "execution_count": 88,
   "metadata": {},
   "outputs": [],
   "source": [
    "pictures9 = getPicturesForRange(destinations, 180, 205)"
   ]
  },
  {
   "cell_type": "code",
   "execution_count": 89,
   "metadata": {},
   "outputs": [],
   "source": [
    "pictures10 = getPicturesForRange(destinations, 205, 230)"
   ]
  },
  {
   "cell_type": "code",
   "execution_count": 90,
   "metadata": {},
   "outputs": [],
   "source": [
    "pictures11 = getPicturesForRange(destinations, 230, 255)"
   ]
  },
  {
   "cell_type": "code",
   "execution_count": 92,
   "metadata": {},
   "outputs": [],
   "source": [
    "pictures12 = getPicturesForRange(destinations, 255, 270)"
   ]
  },
  {
   "cell_type": "code",
   "execution_count": 93,
   "metadata": {},
   "outputs": [],
   "source": [
    "pictures13 = getPicturesForRange(destinations, 255, 290)"
   ]
  },
  {
   "cell_type": "code",
   "execution_count": 100,
   "metadata": {},
   "outputs": [],
   "source": [
    "pictures14 = getPicturesForRange(destinations, 290, 315)"
   ]
  },
  {
   "cell_type": "code",
   "execution_count": 101,
   "metadata": {},
   "outputs": [],
   "source": [
    "pictures15 = getPicturesForRange(destinations, 315, 340)"
   ]
  },
  {
   "cell_type": "code",
   "execution_count": 102,
   "metadata": {},
   "outputs": [],
   "source": [
    "pictures16 = getPicturesForRange(destinations, 340, 365)"
   ]
  },
  {
   "cell_type": "code",
   "execution_count": 103,
   "metadata": {},
   "outputs": [],
   "source": [
    "pictures17 = getPicturesForRange(destinations, 365, len(destinations))"
   ]
  },
  {
   "cell_type": "code",
   "execution_count": 96,
   "metadata": {},
   "outputs": [
    {
     "name": "stdout",
     "output_type": "stream",
     "text": [
      "{'Us Virgin Islands': '', 'Federated States Of Micronesia': '', 'Qatar': u'https://upload.wikimedia.org/wikipedia/commons/d/d2/Doha_%28Qatar%29_banner.jpg', 'Italy': u'https://upload.wikimedia.org/wikipedia/commons/thumb/7/7d/Italy_banner_3_Florence.jpg/2560px-Italy_banner_3_Florence.jpg', 'Oslo': u'https://upload.wikimedia.org/wikipedia/commons/c/c8/Oslo_banner_Opera_by_night.jpg', 'Shanghai': u'https://upload.wikimedia.org/wikipedia/commons/a/a9/Shanghai_Wikivoyage_banner.jpg', 'Lithuania': u'https://upload.wikimedia.org/wikipedia/commons/3/39/Vilnius_old_town_banner.jpg', 'Athens': u'https://upload.wikimedia.org/wikipedia/commons/3/36/Athens_Banner.jpg', 'Cambodia': u'https://upload.wikimedia.org/wikipedia/commons/f/f0/Angkor_panorama_banner.jpg', 'Aruba': u'https://upload.wikimedia.org/wikipedia/commons/d/de/Aruba-banner.jpg', 'San Francisco': u'https://upload.wikimedia.org/wikipedia/commons/0/0b/Golden_Gate_Bridge_and_San_Francisco_banner.jpg', 'Lombok': u'https://upload.wikimedia.org/wikipedia/commons/1/14/Lombok_banner.jpg', 'Anguilla': u'https://upload.wikimedia.org/wikipedia/commons/1/1a/Blowing_Point_%28Anguilla%29_banner_Ferry_terminal.jpg', 'Argentina': u'https://upload.wikimedia.org/wikipedia/commons/thumb/6/62/Argentina_Banner_1.jpg/2560px-Argentina_Banner_1.jpg', 'Montevideo': u'https://upload.wikimedia.org/wikipedia/commons/thumb/6/6d/WV_Montevideo_banner_Palacio_Legislativo.jpg/2560px-WV_Montevideo_banner_Palacio_Legislativo.jpg', 'Holy See': u'https://upload.wikimedia.org/wikipedia/commons/3/39/Vatican_Banner.jpg', 'Bahrain': u'https://upload.wikimedia.org/wikipedia/commons/4/47/Bahrain_Fort_banner.jpg', 'Iceland': u'https://upload.wikimedia.org/wikipedia/commons/thumb/8/88/Iceland_Banner.jpg/2560px-Iceland_Banner.jpg', 'Nashville': u'https://upload.wikimedia.org/wikipedia/commons/c/c5/Nashville_Banner.jpg', 'Buenos Aires': u'https://upload.wikimedia.org/wikipedia/commons/thumb/e/ef/Argentina_Banner_6.jpg/2560px-Argentina_Banner_6.jpg', 'Papua New Guinea': u'https://upload.wikimedia.org/wikipedia/commons/a/a4/Papua-New-Guinea-Koroba-people-banner.jpg', 'Bangkok': '', 'Zimbabwe': u'https://upload.wikimedia.org/wikipedia/commons/d/dc/Victoria_Falls_banner.jpg', 'Martinique': u'https://upload.wikimedia.org/wikipedia/commons/thumb/6/66/Martinique_Pagebanner.jpg/2560px-Martinique_Pagebanner.jpg', 'Mauritania': u'https://upload.wikimedia.org/wikipedia/commons/thumb/9/9e/Nouakchott_%28Mauritania%29_banner_Minaret.jpg/2560px-Nouakchott_%28Mauritania%29_banner_Minaret.jpg', 'Budapest': u'https://upload.wikimedia.org/wikipedia/commons/8/86/Budapest_banner.jpg', 'Anchorage': u'https://upload.wikimedia.org/wikipedia/commons/f/f2/Turnagain_Arm_south_of_Anchorage_page_banner.jpg', 'Barcelona': u'https://upload.wikimedia.org/wikipedia/commons/thumb/7/79/Barcelona_banner_Ciutadella_Fountain.jpg/2560px-Barcelona_banner_Ciutadella_Fountain.jpg', 'Latvia': u'https://upload.wikimedia.org/wikipedia/commons/c/cd/Riga_and_Daugava_banner.jpg', 'Guadeloupe': u'https://upload.wikimedia.org/wikipedia/commons/2/2a/Guadeloupe_banner.jpg', 'Houston': u'https://upload.wikimedia.org/wikipedia/commons/1/19/Houston_City_Hall_Park_banner.jpg', 'Reno': u'https://upload.wikimedia.org/wikipedia/commons/d/d3/Reno_banner.JPG', 'Paraguay': u'https://upload.wikimedia.org/wikipedia/commons/thumb/f/f5/Paraguay_Jesuit_Banner.jpg/2560px-Paraguay_Jesuit_Banner.jpg', 'Portland': u'https://upload.wikimedia.org/wikipedia/commons/d/d7/Disambiguation_banner.png', 'Botswana': u'https://upload.wikimedia.org/wikipedia/commons/6/6e/Tsodilo_Hills_banner_Rock_paintings.jpg'}\n"
     ]
    }
   ],
   "source": [
    "print(pictures13)"
   ]
  },
  {
   "cell_type": "code",
   "execution_count": 97,
   "metadata": {},
   "outputs": [
    {
     "name": "stdout",
     "output_type": "stream",
     "text": [
      "Lombok\n"
     ]
    }
   ],
   "source": [
    "print destinations[260]"
   ]
  },
  {
   "cell_type": "code",
   "execution_count": 94,
   "metadata": {},
   "outputs": [
    {
     "name": "stdout",
     "output_type": "stream",
     "text": [
      "392\n"
     ]
    }
   ],
   "source": [
    "print(len(destinations))"
   ]
  },
  {
   "cell_type": "code",
   "execution_count": 104,
   "metadata": {},
   "outputs": [],
   "source": [
    "combinedPictures = {}\n",
    "\n",
    "for destination in destinations:\n",
    "    if destination in pictures1:\n",
    "        combinedPictures[destination] = pictures1[destination]\n",
    "    elif destination in pictures2:\n",
    "        combinedPictures[destination] = pictures2[destination]\n",
    "    elif destination in pictures3:\n",
    "        combinedPictures[destination] = pictures3[destination]\n",
    "    elif destination in pictures4:\n",
    "        combinedPictures[destination] = pictures4[destination]\n",
    "    elif destination in pictures5:\n",
    "        combinedPictures[destination] = pictures5[destination]\n",
    "    elif destination in pictures6:\n",
    "        combinedPictures[destination] = pictures6[destination]\n",
    "    elif destination in pictures7:\n",
    "        combinedPictures[destination] = pictures7[destination]\n",
    "    elif destination in pictures8:\n",
    "        combinedPictures[destination] = pictures8[destination]\n",
    "    elif destination in pictures9:\n",
    "        combinedPictures[destination] = pictures9[destination]\n",
    "    elif destination in pictures10:\n",
    "        combinedPictures[destination] = pictures10[destination]\n",
    "    elif destination in pictures11:\n",
    "        combinedPictures[destination] = pictures11[destination]\n",
    "    elif destination in pictures12:\n",
    "        combinedPictures[destination] = pictures12[destination]\n",
    "    elif destination in pictures13:\n",
    "        combinedPictures[destination] = pictures13[destination]\n",
    "    elif destination in pictures14:\n",
    "        combinedPictures[destination] = pictures14[destination]\n",
    "    elif destination in pictures15:\n",
    "        combinedPictures[destination] = pictures15[destination]\n",
    "    elif destination in pictures16:\n",
    "        combinedPictures[destination] = pictures16[destination]\n",
    "    elif destination in pictures17:\n",
    "        combinedPictures[destination] = pictures17[destination]"
   ]
  },
  {
   "cell_type": "code",
   "execution_count": 11,
   "metadata": {},
   "outputs": [
    {
     "name": "stdout",
     "output_type": "stream",
     "text": [
      "Percent destinations with pictures: 1.0\n"
     ]
    }
   ],
   "source": [
    "validPictures = 0.\n",
    "\n",
    "for destination in destinations:\n",
    "    if destination in combinedPictures and len(combinedPictures[destination]) > 0:\n",
    "        validPictures = validPictures + 1\n",
    "\n",
    "print(\"Percent destinations with pictures: \" + str(validPictures / len(destinations)))"
   ]
  },
  {
   "cell_type": "code",
   "execution_count": 107,
   "metadata": {},
   "outputs": [],
   "source": [
    "for destination in destinations:\n",
    "    if destination not in combinedPictures or len(combinedPictures[destination]) is 0:\n",
    "        base_url = \"https://en.wikivoyage.org/wiki/\"\n",
    "        place = destination.replace(' ', '_').replace('-', '%20')\n",
    "        if place is \"Yugoslavia\":\n",
    "            continue\n",
    "        combinedPictures[destination] = getBannerPicURL(base_url + place)"
   ]
  },
  {
   "cell_type": "code",
   "execution_count": 12,
   "metadata": {},
   "outputs": [],
   "source": [
    "with open('data/pictures.pickle', 'wb') as f:\n",
    "    pickle.dump(combinedPictures, f, protocol=2)"
   ]
  },
  {
   "cell_type": "code",
   "execution_count": null,
   "metadata": {},
   "outputs": [],
   "source": []
  },
  {
   "cell_type": "code",
   "execution_count": null,
   "metadata": {},
   "outputs": [],
   "source": []
  },
  {
   "cell_type": "code",
   "execution_count": 2,
   "metadata": {},
   "outputs": [],
   "source": [
    "with open(\"data/pictures.pickle\", \"rb\") as f:\n",
    "    combinedPictures = pickle.load(f)"
   ]
  },
  {
   "cell_type": "code",
   "execution_count": 5,
   "metadata": {},
   "outputs": [
    {
     "name": "stdout",
     "output_type": "stream",
     "text": [
      "Turks And Caicos\n",
      "Kuala Lumpur\n",
      "Israel And The Palestinian Territories\n",
      "Boston\n",
      "Bosnia Hercegovina\n",
      "Nepal\n",
      "Munich\n",
      "Washington Dc\n",
      "Greece\n",
      "Bolivia\n",
      "Saint Kitts And Nevis\n",
      "Seville\n",
      "Sao Tome And Principe\n",
      "South Africa\n",
      "Rio De Janeiro\n",
      "Iran\n",
      "Cote Divoire\n",
      "Chile And Easter Island\n",
      "Seychelles\n",
      "Balearic Islands\n",
      "Us Virgin Islands\n",
      "Bangkok\n",
      "Federated States Of Micronesia\n",
      "Wallis And Futuna\n",
      "Pakistan\n",
      "Tahiti And French Polynesia\n",
      "Saint Vincent And The Grenadines\n",
      "Trinidad And Tobago\n",
      "Kolkata\n",
      "Comoros And Mayotte\n",
      "Antigua And Barbuda\n",
      "San Jose Del Cabo\n",
      "Marthas Vineyard\n",
      "Scottish Highlands And Islands\n",
      "Baltimore\n",
      "Dodecanese Islands\n",
      "Ecuador And The Galapagos Islands\n"
     ]
    }
   ],
   "source": [
    "for destination in destinations:\n",
    "    if destination not in combinedPictures or len(combinedPictures[destination]) is 0:\n",
    "        print(destination)"
   ]
  },
  {
   "cell_type": "code",
   "execution_count": 10,
   "metadata": {},
   "outputs": [],
   "source": [
    "combinedPictures[\"Turks And Caicos\"] = \"https://upload.wikimedia.org/wikipedia/commons/f/f0/Providenciales_%28Turks_and_Caicos_Islands%29_banner_Chalk_Sound.jpg\"\n",
    "combinedPictures[\"Kuala Lumpur\"] = \"https://upload.wikimedia.org/wikipedia/commons/5/5f/Kuala_Lumpur_Skyline_at_dusk_%28cropped%29.jpg\"\n",
    "combinedPictures[\"Israel And The Palestinian Territories\"] = \"https://upload.wikimedia.org/wikipedia/commons/c/cd/Jerusalem_banner_Panorama.jpg\"\n",
    "combinedPictures[\"Boston\"] = \"https://upload.wikimedia.org/wikipedia/commons/6/60/Boston_Skyline_July_5_2010.jpg\"\n",
    "combinedPictures[\"Bosnia Hercegovina\"] = \"https://upload.wikimedia.org/wikipedia/commons/6/68/Trebinje_banner.jpg\"\n",
    "combinedPictures[\"Nepal\"] = \"https://upload.wikimedia.org/wikipedia/commons/e/ef/Boudhanath_Panorama_2016.jpg\"\n",
    "combinedPictures[\"Munich\"] = \"https://upload.wikimedia.org/wikipedia/commons/0/03/Munich_Panorama_%28cropped_for_Wikivoyage%29.jpg\"\n",
    "combinedPictures[\"Washington Dc\"] = \"https://upload.wikimedia.org/wikipedia/commons/8/82/Washington%2C_D.C.-banner2.jpg\"\n",
    "combinedPictures[\"Greece\"] = \"https://upload.wikimedia.org/wikipedia/commons/7/7b/Kompsatos_river_bridge%2C_Thrace.jpg\"\n",
    "combinedPictures[\"Bolivia\"] = \"https://upload.wikimedia.org/wikipedia/commons/0/00/Salar_de_Uyuni_Décembre_2007_-_Panorama_1_edit.jpg\"\n",
    "combinedPictures[\"Saint Kitts And Nevis\"] = \"https://upload.wikimedia.org/wikipedia/commons/3/3c/Saint_Kitts_and_Nevis_banner.jpg\"\n",
    "combinedPictures[\"Seville\"] = \"https://upload.wikimedia.org/wikipedia/commons/0/04/Coro%2C_Catedral_de_Sevilla%2C_Sevilla%2C_España%2C_2015-12-06%2C_DD_100-103_HDR_crop.jpg\"\n",
    "combinedPictures[\"Sao Tome And Principe\"] = \"https://upload.wikimedia.org/wikipedia/commons/6/6c/Sao_Tome_banner_Eggs_of_Prinia_molleri.jpg\"\n",
    "combinedPictures[\"South Africa\"] = \"https://upload.wikimedia.org/wikipedia/commons/7/7c/Table_Mountain_panorama.jpg\"\n",
    "combinedPictures[\"Rio De Janeiro\"] = \"https://upload.wikimedia.org/wikipedia/commons/2/23/Rio_de_Janiero_banner_1.jpg\"\n",
    "combinedPictures[\"Iran\"] = \"https://upload.wikimedia.org/wikipedia/commons/7/72/Jamkaran_Mosque-313-%28II%29--Baner.jpg\"\n",
    "combinedPictures[\"Cote Divoire\"] = \"https://upload.wikimedia.org/wikipedia/commons/5/51/San_Pédro_banner_Beach.jpg\"\n",
    "combinedPictures[\"Chile And Easter Island\"] = \"https://upload.wikimedia.org/wikipedia/commons/a/af/Lascar_summit_banner.jpg\"\n",
    "combinedPictures[\"Seychelles\"] = \"https://upload.wikimedia.org/wikipedia/commons/c/c9/2005-03-13_08-55-02_Seychelles_-_Misere.jpg\"\n",
    "combinedPictures[\"Balearic Islands\"] = \"https://upload.wikimedia.org/wikipedia/commons/d/d4/Starry_night%2C_Mallorca.jpg\"\n",
    "combinedPictures[\"Us Virgin Islands\"] = \"https://upload.wikimedia.org/wikipedia/commons/9/9f/US_Virgin_Islands_banner_Turtle_Bay_Beach.jpg\"\n",
    "combinedPictures[\"Bangkok\"] = \"https://upload.wikimedia.org/wikipedia/commons/f/f1/Templo_Wat_Arun%2C_Bangkok%2C_Tailandia%2C_2013-08-22%2C_DD_30-crop.jpg\"\n",
    "combinedPictures[\"Federated States Of Micronesia\"] = \"https://upload.wikimedia.org/wikipedia/commons/c/c1/Falalop_Island_%28Ulithi_atoll%2C_Federated_States_of_Micronesia%29_banner_Aerial_view_of_airfield.jpg\"\n",
    "combinedPictures[\"Wallis And Futuna\"] = \"https://upload.wikimedia.org/wikipedia/commons/5/5d/Wallis_and_Futuna-banner.jpg\"\n",
    "combinedPictures[\"Pakistan\"] = \"https://upload.wikimedia.org/wikipedia/commons/6/65/Dudipat_WV_Panorama.jpg\"\n",
    "combinedPictures[\"Tahiti And French Polynesia\"] = \"https://upload.wikimedia.org/wikipedia/commons/0/0a/Polynesian_hammock_banner.jpg\"\n",
    "combinedPictures[\"Saint Vincent And The Grenadines\"] = \"https://upload.wikimedia.org/wikipedia/commons/0/08/Grenadines_banner_Palm_Island_beach.jpg\"\n",
    "combinedPictures[\"Trinidad And Tobago\"] = \"https://upload.wikimedia.org/wikipedia/commons/f/f8/Pigeon_Point_%28Tobago%29_banner_Beach.jpg\"\n",
    "combinedPictures[\"Kolkata\"] = \"https://upload.wikimedia.org/wikipedia/commons/2/24/BBDBag_Pano-2.jpg\"\n",
    "combinedPictures[\"Comoros And Mayotte\"] = \"https://upload.wikimedia.org/wikipedia/commons/9/9d/Grande_Comore_banner.jpg\"\n",
    "combinedPictures[\"Antigua And Barbuda\"] = \"https://upload.wikimedia.org/wikipedia/commons/1/1c/Antigua_banner_beach.jpg\"\n",
    "combinedPictures[\"San Jose Del Cabo\"] = \"https://upload.wikimedia.org/wikipedia/commons/f/f2/Pagebanner_default.jpg\"\n",
    "combinedPictures[\"Marthas Vineyard\"] = \"https://upload.wikimedia.org/wikipedia/commons/7/7c/Martha%27s_Vineyard_banner_Gay_Head_Light.jpg\"\n",
    "combinedPictures[\"Scottish Highlands And Islands\"] = \"https://upload.wikimedia.org/wikipedia/commons/b/bc/Glenfinnan_banner.jpg\"\n",
    "combinedPictures[\"Baltimore\"] = \"https://upload.wikimedia.org/wikipedia/commons/8/85/George-peabody-library-crop.jpg\"\n",
    "combinedPictures[\"Dodecanese Islands\"] = \"https://upload.wikimedia.org/wikipedia/commons/1/12/Dodécanèse_banner.jpg\"\n",
    "combinedPictures[\"Ecuador And The Galapagos Islands\"] = \"https://upload.wikimedia.org/wikipedia/commons/1/1b/GalapagosIguanaBanner.JPG\""
   ]
  },
  {
   "cell_type": "code",
   "execution_count": 6,
   "metadata": {},
   "outputs": [
    {
     "name": "stdout",
     "output_type": "stream",
     "text": [
      "392\n"
     ]
    }
   ],
   "source": [
    "print(len(combinedPictures))"
   ]
  },
  {
   "cell_type": "code",
   "execution_count": 7,
   "metadata": {},
   "outputs": [
    {
     "name": "stdout",
     "output_type": "stream",
     "text": [
      "392\n"
     ]
    }
   ],
   "source": [
    "print(len(destinations))"
   ]
  },
  {
   "cell_type": "code",
   "execution_count": 8,
   "metadata": {},
   "outputs": [
    {
     "name": "stdout",
     "output_type": "stream",
     "text": [
      "False\n"
     ]
    }
   ],
   "source": [
    "print('Europe' in destinations)"
   ]
  },
  {
   "cell_type": "code",
   "execution_count": null,
   "metadata": {},
   "outputs": [],
   "source": []
  }
 ],
 "metadata": {
  "kernelspec": {
   "display_name": "Python 2",
   "language": "python",
   "name": "python2"
  },
  "language_info": {
   "codemirror_mode": {
    "name": "ipython",
    "version": 2
   },
   "file_extension": ".py",
   "mimetype": "text/x-python",
   "name": "python",
   "nbconvert_exporter": "python",
   "pygments_lexer": "ipython2",
   "version": "2.7.12"
  }
 },
 "nbformat": 4,
 "nbformat_minor": 2
}
